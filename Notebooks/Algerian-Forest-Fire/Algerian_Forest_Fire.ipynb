{
 "cells": [
  {
   "cell_type": "markdown",
   "id": "b700b264",
   "metadata": {},
   "source": [
    "# Algerian Forest Fire Dataset | EDA | Feature Engineering | Model Building"
   ]
  },
  {
   "cell_type": "code",
   "execution_count": 1,
   "id": "efd4c0f9",
   "metadata": {},
   "outputs": [
    {
     "name": "stderr",
     "output_type": "stream",
     "text": [
      "C:\\Users\\himan\\AppData\\Local\\Packages\\PythonSoftwareFoundation.Python.3.11_qbz5n2kfra8p0\\LocalCache\\local-packages\\Python311\\site-packages\\tqdm\\auto.py:21: TqdmWarning: IProgress not found. Please update jupyter and ipywidgets. See https://ipywidgets.readthedocs.io/en/stable/user_install.html\n",
      "  from .autonotebook import tqdm as notebook_tqdm\n"
     ]
    },
    {
     "name": "stdout",
     "output_type": "stream",
     "text": [
      "Path to dataset files: C:\\Users\\himan\\.cache\\kagglehub\\datasets\\nitinchoudhary012\\algerian-forest-fires-dataset\\versions\\2\n"
     ]
    }
   ],
   "source": [
    "import kagglehub\n",
    "\n",
    "# Download latest version\n",
    "path = kagglehub.dataset_download(\"nitinchoudhary012/algerian-forest-fires-dataset\")\n",
    "\n",
    "print(\"Path to dataset files:\", str(path))"
   ]
  },
  {
   "cell_type": "code",
   "execution_count": 2,
   "id": "300f76a6",
   "metadata": {},
   "outputs": [
    {
     "name": "stdout",
     "output_type": "stream",
     "text": [
      "Algerian_forest_fires_dataset.csv\n"
     ]
    }
   ],
   "source": [
    "# importing required libraries\n",
    "import numpy as np\n",
    "import pandas as pd\n",
    "import matplotlib.pyplot as plt\n",
    "import seaborn as sns\n",
    "%matplotlib inline\n",
    "\n",
    "import os\n",
    "\n",
    "for file in os.listdir(path):\n",
    "    print(file)"
   ]
  },
  {
   "cell_type": "code",
   "execution_count": 3,
   "id": "f7b03e6f",
   "metadata": {},
   "outputs": [
    {
     "data": {
      "text/html": [
       "<div>\n",
       "<style scoped>\n",
       "    .dataframe tbody tr th:only-of-type {\n",
       "        vertical-align: middle;\n",
       "    }\n",
       "\n",
       "    .dataframe tbody tr th {\n",
       "        vertical-align: top;\n",
       "    }\n",
       "\n",
       "    .dataframe thead th {\n",
       "        text-align: right;\n",
       "    }\n",
       "</style>\n",
       "<table border=\"1\" class=\"dataframe\">\n",
       "  <thead>\n",
       "    <tr style=\"text-align: right;\">\n",
       "      <th></th>\n",
       "      <th>day</th>\n",
       "      <th>month</th>\n",
       "      <th>year</th>\n",
       "      <th>Temperature</th>\n",
       "      <th>RH</th>\n",
       "      <th>Ws</th>\n",
       "      <th>Rain</th>\n",
       "      <th>FFMC</th>\n",
       "      <th>DMC</th>\n",
       "      <th>DC</th>\n",
       "      <th>ISI</th>\n",
       "      <th>BUI</th>\n",
       "      <th>FWI</th>\n",
       "      <th>Classes</th>\n",
       "    </tr>\n",
       "  </thead>\n",
       "  <tbody>\n",
       "    <tr>\n",
       "      <th>0</th>\n",
       "      <td>1</td>\n",
       "      <td>6</td>\n",
       "      <td>2012</td>\n",
       "      <td>29</td>\n",
       "      <td>57</td>\n",
       "      <td>18</td>\n",
       "      <td>0</td>\n",
       "      <td>65.7</td>\n",
       "      <td>3.4</td>\n",
       "      <td>7.6</td>\n",
       "      <td>1.3</td>\n",
       "      <td>3.4</td>\n",
       "      <td>0.5</td>\n",
       "      <td>not fire</td>\n",
       "    </tr>\n",
       "    <tr>\n",
       "      <th>1</th>\n",
       "      <td>2</td>\n",
       "      <td>6</td>\n",
       "      <td>2012</td>\n",
       "      <td>29</td>\n",
       "      <td>61</td>\n",
       "      <td>13</td>\n",
       "      <td>1.3</td>\n",
       "      <td>64.4</td>\n",
       "      <td>4.1</td>\n",
       "      <td>7.6</td>\n",
       "      <td>1</td>\n",
       "      <td>3.9</td>\n",
       "      <td>0.4</td>\n",
       "      <td>not fire</td>\n",
       "    </tr>\n",
       "    <tr>\n",
       "      <th>2</th>\n",
       "      <td>3</td>\n",
       "      <td>6</td>\n",
       "      <td>2012</td>\n",
       "      <td>26</td>\n",
       "      <td>82</td>\n",
       "      <td>22</td>\n",
       "      <td>13.1</td>\n",
       "      <td>47.1</td>\n",
       "      <td>2.5</td>\n",
       "      <td>7.1</td>\n",
       "      <td>0.3</td>\n",
       "      <td>2.7</td>\n",
       "      <td>0.1</td>\n",
       "      <td>not fire</td>\n",
       "    </tr>\n",
       "    <tr>\n",
       "      <th>3</th>\n",
       "      <td>4</td>\n",
       "      <td>6</td>\n",
       "      <td>2012</td>\n",
       "      <td>25</td>\n",
       "      <td>89</td>\n",
       "      <td>13</td>\n",
       "      <td>2.5</td>\n",
       "      <td>28.6</td>\n",
       "      <td>1.3</td>\n",
       "      <td>6.9</td>\n",
       "      <td>0</td>\n",
       "      <td>1.7</td>\n",
       "      <td>0</td>\n",
       "      <td>not fire</td>\n",
       "    </tr>\n",
       "    <tr>\n",
       "      <th>4</th>\n",
       "      <td>5</td>\n",
       "      <td>6</td>\n",
       "      <td>2012</td>\n",
       "      <td>27</td>\n",
       "      <td>77</td>\n",
       "      <td>16</td>\n",
       "      <td>0</td>\n",
       "      <td>64.8</td>\n",
       "      <td>3</td>\n",
       "      <td>14.2</td>\n",
       "      <td>1.2</td>\n",
       "      <td>3.9</td>\n",
       "      <td>0.5</td>\n",
       "      <td>not fire</td>\n",
       "    </tr>\n",
       "  </tbody>\n",
       "</table>\n",
       "</div>"
      ],
      "text/plain": [
       "  day month  year Temperature  RH  Ws Rain   FFMC  DMC    DC  ISI  BUI  FWI  \\\n",
       "0   1     6  2012          29  57  18     0  65.7  3.4   7.6  1.3  3.4  0.5   \n",
       "1   2     6  2012          29  61  13   1.3  64.4  4.1   7.6    1  3.9  0.4   \n",
       "2   3     6  2012          26  82  22  13.1  47.1  2.5   7.1  0.3  2.7  0.1   \n",
       "3   4     6  2012          25  89  13   2.5  28.6  1.3   6.9    0  1.7    0   \n",
       "4   5     6  2012          27  77  16     0  64.8    3  14.2  1.2  3.9  0.5   \n",
       "\n",
       "     Classes    \n",
       "0  not fire     \n",
       "1  not fire     \n",
       "2  not fire     \n",
       "3  not fire     \n",
       "4  not fire     "
      ]
     },
     "execution_count": 3,
     "metadata": {},
     "output_type": "execute_result"
    }
   ],
   "source": [
    "# Now loading the dataset\n",
    "path_file = \"C:/Users/himan/.cache/kagglehub/datasets/nitinchoudhary012/algerian-forest-fires-dataset/versions/2/Algerian_forest_fires_dataset.csv\"\n",
    "data = pd.read_csv(path_file)\n",
    "data.head()"
   ]
  },
  {
   "cell_type": "code",
   "execution_count": 4,
   "id": "773e2158",
   "metadata": {},
   "outputs": [
    {
     "name": "stdout",
     "output_type": "stream",
     "text": [
      "<class 'pandas.core.frame.DataFrame'>\n",
      "RangeIndex: 247 entries, 0 to 246\n",
      "Data columns (total 14 columns):\n",
      " #   Column       Non-Null Count  Dtype \n",
      "---  ------       --------------  ----- \n",
      " 0   day          246 non-null    object\n",
      " 1   month        245 non-null    object\n",
      " 2   year         245 non-null    object\n",
      " 3   Temperature  245 non-null    object\n",
      " 4    RH          245 non-null    object\n",
      " 5    Ws          245 non-null    object\n",
      " 6   Rain         245 non-null    object\n",
      " 7   FFMC         245 non-null    object\n",
      " 8   DMC          245 non-null    object\n",
      " 9   DC           245 non-null    object\n",
      " 10  ISI          245 non-null    object\n",
      " 11  BUI          245 non-null    object\n",
      " 12  FWI          245 non-null    object\n",
      " 13  Classes      244 non-null    object\n",
      "dtypes: object(14)\n",
      "memory usage: 27.1+ KB\n"
     ]
    }
   ],
   "source": [
    "# Checking for null values\n",
    "data.info()"
   ]
  },
  {
   "cell_type": "markdown",
   "id": "ccf65c69",
   "metadata": {},
   "source": [
    "# Data Cleaning"
   ]
  },
  {
   "cell_type": "code",
   "execution_count": 5,
   "id": "67b5464d",
   "metadata": {},
   "outputs": [
    {
     "data": {
      "text/plain": [
       "day            1\n",
       "month          2\n",
       "year           2\n",
       "Temperature    2\n",
       " RH            2\n",
       " Ws            2\n",
       "Rain           2\n",
       "FFMC           2\n",
       "DMC            2\n",
       "DC             2\n",
       "ISI            2\n",
       "BUI            2\n",
       "FWI            2\n",
       "Classes        3\n",
       "dtype: int64"
      ]
     },
     "execution_count": 5,
     "metadata": {},
     "output_type": "execute_result"
    }
   ],
   "source": [
    "\n",
    "# Checking for the missig values\n",
    "data.isnull().sum()"
   ]
  },
  {
   "cell_type": "code",
   "execution_count": 6,
   "id": "882baeff",
   "metadata": {},
   "outputs": [
    {
     "data": {
      "text/html": [
       "<div>\n",
       "<style scoped>\n",
       "    .dataframe tbody tr th:only-of-type {\n",
       "        vertical-align: middle;\n",
       "    }\n",
       "\n",
       "    .dataframe tbody tr th {\n",
       "        vertical-align: top;\n",
       "    }\n",
       "\n",
       "    .dataframe thead th {\n",
       "        text-align: right;\n",
       "    }\n",
       "</style>\n",
       "<table border=\"1\" class=\"dataframe\">\n",
       "  <thead>\n",
       "    <tr style=\"text-align: right;\">\n",
       "      <th></th>\n",
       "      <th>day</th>\n",
       "      <th>month</th>\n",
       "      <th>year</th>\n",
       "      <th>Temperature</th>\n",
       "      <th>RH</th>\n",
       "      <th>Ws</th>\n",
       "      <th>Rain</th>\n",
       "      <th>FFMC</th>\n",
       "      <th>DMC</th>\n",
       "      <th>DC</th>\n",
       "      <th>ISI</th>\n",
       "      <th>BUI</th>\n",
       "      <th>FWI</th>\n",
       "      <th>Classes</th>\n",
       "    </tr>\n",
       "  </thead>\n",
       "  <tbody>\n",
       "    <tr>\n",
       "      <th>122</th>\n",
       "      <td>NaN</td>\n",
       "      <td>NaN</td>\n",
       "      <td>NaN</td>\n",
       "      <td>NaN</td>\n",
       "      <td>NaN</td>\n",
       "      <td>NaN</td>\n",
       "      <td>NaN</td>\n",
       "      <td>NaN</td>\n",
       "      <td>NaN</td>\n",
       "      <td>NaN</td>\n",
       "      <td>NaN</td>\n",
       "      <td>NaN</td>\n",
       "      <td>NaN</td>\n",
       "      <td>NaN</td>\n",
       "    </tr>\n",
       "    <tr>\n",
       "      <th>123</th>\n",
       "      <td>Sidi-Bel Abbes Region Dataset</td>\n",
       "      <td>NaN</td>\n",
       "      <td>NaN</td>\n",
       "      <td>NaN</td>\n",
       "      <td>NaN</td>\n",
       "      <td>NaN</td>\n",
       "      <td>NaN</td>\n",
       "      <td>NaN</td>\n",
       "      <td>NaN</td>\n",
       "      <td>NaN</td>\n",
       "      <td>NaN</td>\n",
       "      <td>NaN</td>\n",
       "      <td>NaN</td>\n",
       "      <td>NaN</td>\n",
       "    </tr>\n",
       "    <tr>\n",
       "      <th>168</th>\n",
       "      <td>14</td>\n",
       "      <td>7</td>\n",
       "      <td>2012</td>\n",
       "      <td>37</td>\n",
       "      <td>37</td>\n",
       "      <td>18</td>\n",
       "      <td>0.2</td>\n",
       "      <td>88.9</td>\n",
       "      <td>12.9</td>\n",
       "      <td>14.6 9</td>\n",
       "      <td>12.5</td>\n",
       "      <td>10.4</td>\n",
       "      <td>fire</td>\n",
       "      <td>NaN</td>\n",
       "    </tr>\n",
       "  </tbody>\n",
       "</table>\n",
       "</div>"
      ],
      "text/plain": [
       "                               day month  year Temperature   RH   Ws Rain   \\\n",
       "122                            NaN   NaN   NaN         NaN  NaN  NaN   NaN   \n",
       "123  Sidi-Bel Abbes Region Dataset   NaN   NaN         NaN  NaN  NaN   NaN   \n",
       "168                             14     7  2012          37   37   18   0.2   \n",
       "\n",
       "     FFMC   DMC      DC   ISI   BUI      FWI Classes    \n",
       "122   NaN   NaN     NaN   NaN   NaN      NaN       NaN  \n",
       "123   NaN   NaN     NaN   NaN   NaN      NaN       NaN  \n",
       "168  88.9  12.9  14.6 9  12.5  10.4  fire          NaN  "
      ]
     },
     "execution_count": 6,
     "metadata": {},
     "output_type": "execute_result"
    }
   ],
   "source": [
    "data[data.isnull().any(axis = 1)]"
   ]
  },
  {
   "cell_type": "markdown",
   "id": "d8acbbb4",
   "metadata": {},
   "source": [
    "It means at index number 123 and a cell above, the data values are missing."
   ]
  },
  {
   "cell_type": "markdown",
   "id": "9c4fe3f8",
   "metadata": {},
   "source": [
    "The dataset contains information about two Regions.  \n",
    "1) Bejaia Region\n",
    "2) Sidi-Bel Abbes Region Dataset  \n",
    "\n",
    "Now making new columns based on the Region."
   ]
  },
  {
   "cell_type": "code",
   "execution_count": 7,
   "id": "0e4001bf",
   "metadata": {},
   "outputs": [],
   "source": [
    "data.loc[:123, \"Region\"] = 0\n",
    "data.loc[126:, \"Region\"] = 1\n",
    "# From the csv file, it is clear that from index 123 above, there are all values and also after from index 126. Between them lies our missing values.\n",
    "df = data"
   ]
  },
  {
   "cell_type": "code",
   "execution_count": 8,
   "id": "ca309423",
   "metadata": {},
   "outputs": [
    {
     "name": "stdout",
     "output_type": "stream",
     "text": [
      "<class 'pandas.core.frame.DataFrame'>\n",
      "RangeIndex: 247 entries, 0 to 246\n",
      "Data columns (total 15 columns):\n",
      " #   Column       Non-Null Count  Dtype  \n",
      "---  ------       --------------  -----  \n",
      " 0   day          246 non-null    object \n",
      " 1   month        245 non-null    object \n",
      " 2   year         245 non-null    object \n",
      " 3   Temperature  245 non-null    object \n",
      " 4    RH          245 non-null    object \n",
      " 5    Ws          245 non-null    object \n",
      " 6   Rain         245 non-null    object \n",
      " 7   FFMC         245 non-null    object \n",
      " 8   DMC          245 non-null    object \n",
      " 9   DC           245 non-null    object \n",
      " 10  ISI          245 non-null    object \n",
      " 11  BUI          245 non-null    object \n",
      " 12  FWI          245 non-null    object \n",
      " 13  Classes      244 non-null    object \n",
      " 14  Region       245 non-null    float64\n",
      "dtypes: float64(1), object(14)\n",
      "memory usage: 29.1+ KB\n"
     ]
    }
   ],
   "source": [
    "df.info()"
   ]
  },
  {
   "cell_type": "code",
   "execution_count": 9,
   "id": "c8e7aba7",
   "metadata": {},
   "outputs": [
    {
     "ename": "IntCastingNaNError",
     "evalue": "Cannot convert non-finite values (NA or inf) to integer",
     "output_type": "error",
     "traceback": [
      "\u001b[31m---------------------------------------------------------------------------\u001b[39m",
      "\u001b[31mIntCastingNaNError\u001b[39m                        Traceback (most recent call last)",
      "\u001b[36mCell\u001b[39m\u001b[36m \u001b[39m\u001b[32mIn[9]\u001b[39m\u001b[32m, line 1\u001b[39m\n\u001b[32m----> \u001b[39m\u001b[32m1\u001b[39m df[[\u001b[33m\"\u001b[39m\u001b[33mRegion\u001b[39m\u001b[33m\"\u001b[39m]] = \u001b[43mdf\u001b[49m\u001b[43m[\u001b[49m\u001b[43m[\u001b[49m\u001b[33;43m\"\u001b[39;49m\u001b[33;43mRegion\u001b[39;49m\u001b[33;43m\"\u001b[39;49m\u001b[43m]\u001b[49m\u001b[43m]\u001b[49m\u001b[43m.\u001b[49m\u001b[43mastype\u001b[49m\u001b[43m(\u001b[49m\u001b[38;5;28;43mint\u001b[39;49m\u001b[43m)\u001b[49m\n",
      "\u001b[36mFile \u001b[39m\u001b[32m~\\AppData\\Local\\Packages\\PythonSoftwareFoundation.Python.3.11_qbz5n2kfra8p0\\LocalCache\\local-packages\\Python311\\site-packages\\pandas\\core\\generic.py:6643\u001b[39m, in \u001b[36mNDFrame.astype\u001b[39m\u001b[34m(self, dtype, copy, errors)\u001b[39m\n\u001b[32m   6637\u001b[39m     results = [\n\u001b[32m   6638\u001b[39m         ser.astype(dtype, copy=copy, errors=errors) \u001b[38;5;28;01mfor\u001b[39;00m _, ser \u001b[38;5;129;01min\u001b[39;00m \u001b[38;5;28mself\u001b[39m.items()\n\u001b[32m   6639\u001b[39m     ]\n\u001b[32m   6641\u001b[39m \u001b[38;5;28;01melse\u001b[39;00m:\n\u001b[32m   6642\u001b[39m     \u001b[38;5;66;03m# else, only a single dtype is given\u001b[39;00m\n\u001b[32m-> \u001b[39m\u001b[32m6643\u001b[39m     new_data = \u001b[38;5;28;43mself\u001b[39;49m\u001b[43m.\u001b[49m\u001b[43m_mgr\u001b[49m\u001b[43m.\u001b[49m\u001b[43mastype\u001b[49m\u001b[43m(\u001b[49m\u001b[43mdtype\u001b[49m\u001b[43m=\u001b[49m\u001b[43mdtype\u001b[49m\u001b[43m,\u001b[49m\u001b[43m \u001b[49m\u001b[43mcopy\u001b[49m\u001b[43m=\u001b[49m\u001b[43mcopy\u001b[49m\u001b[43m,\u001b[49m\u001b[43m \u001b[49m\u001b[43merrors\u001b[49m\u001b[43m=\u001b[49m\u001b[43merrors\u001b[49m\u001b[43m)\u001b[49m\n\u001b[32m   6644\u001b[39m     res = \u001b[38;5;28mself\u001b[39m._constructor_from_mgr(new_data, axes=new_data.axes)\n\u001b[32m   6645\u001b[39m     \u001b[38;5;28;01mreturn\u001b[39;00m res.__finalize__(\u001b[38;5;28mself\u001b[39m, method=\u001b[33m\"\u001b[39m\u001b[33mastype\u001b[39m\u001b[33m\"\u001b[39m)\n",
      "\u001b[36mFile \u001b[39m\u001b[32m~\\AppData\\Local\\Packages\\PythonSoftwareFoundation.Python.3.11_qbz5n2kfra8p0\\LocalCache\\local-packages\\Python311\\site-packages\\pandas\\core\\internals\\managers.py:430\u001b[39m, in \u001b[36mBaseBlockManager.astype\u001b[39m\u001b[34m(self, dtype, copy, errors)\u001b[39m\n\u001b[32m    427\u001b[39m \u001b[38;5;28;01melif\u001b[39;00m using_copy_on_write():\n\u001b[32m    428\u001b[39m     copy = \u001b[38;5;28;01mFalse\u001b[39;00m\n\u001b[32m--> \u001b[39m\u001b[32m430\u001b[39m \u001b[38;5;28;01mreturn\u001b[39;00m \u001b[38;5;28;43mself\u001b[39;49m\u001b[43m.\u001b[49m\u001b[43mapply\u001b[49m\u001b[43m(\u001b[49m\n\u001b[32m    431\u001b[39m \u001b[43m    \u001b[49m\u001b[33;43m\"\u001b[39;49m\u001b[33;43mastype\u001b[39;49m\u001b[33;43m\"\u001b[39;49m\u001b[43m,\u001b[49m\n\u001b[32m    432\u001b[39m \u001b[43m    \u001b[49m\u001b[43mdtype\u001b[49m\u001b[43m=\u001b[49m\u001b[43mdtype\u001b[49m\u001b[43m,\u001b[49m\n\u001b[32m    433\u001b[39m \u001b[43m    \u001b[49m\u001b[43mcopy\u001b[49m\u001b[43m=\u001b[49m\u001b[43mcopy\u001b[49m\u001b[43m,\u001b[49m\n\u001b[32m    434\u001b[39m \u001b[43m    \u001b[49m\u001b[43merrors\u001b[49m\u001b[43m=\u001b[49m\u001b[43merrors\u001b[49m\u001b[43m,\u001b[49m\n\u001b[32m    435\u001b[39m \u001b[43m    \u001b[49m\u001b[43musing_cow\u001b[49m\u001b[43m=\u001b[49m\u001b[43musing_copy_on_write\u001b[49m\u001b[43m(\u001b[49m\u001b[43m)\u001b[49m\u001b[43m,\u001b[49m\n\u001b[32m    436\u001b[39m \u001b[43m\u001b[49m\u001b[43m)\u001b[49m\n",
      "\u001b[36mFile \u001b[39m\u001b[32m~\\AppData\\Local\\Packages\\PythonSoftwareFoundation.Python.3.11_qbz5n2kfra8p0\\LocalCache\\local-packages\\Python311\\site-packages\\pandas\\core\\internals\\managers.py:363\u001b[39m, in \u001b[36mBaseBlockManager.apply\u001b[39m\u001b[34m(self, f, align_keys, **kwargs)\u001b[39m\n\u001b[32m    361\u001b[39m         applied = b.apply(f, **kwargs)\n\u001b[32m    362\u001b[39m     \u001b[38;5;28;01melse\u001b[39;00m:\n\u001b[32m--> \u001b[39m\u001b[32m363\u001b[39m         applied = \u001b[38;5;28;43mgetattr\u001b[39;49m\u001b[43m(\u001b[49m\u001b[43mb\u001b[49m\u001b[43m,\u001b[49m\u001b[43m \u001b[49m\u001b[43mf\u001b[49m\u001b[43m)\u001b[49m\u001b[43m(\u001b[49m\u001b[43m*\u001b[49m\u001b[43m*\u001b[49m\u001b[43mkwargs\u001b[49m\u001b[43m)\u001b[49m\n\u001b[32m    364\u001b[39m     result_blocks = extend_blocks(applied, result_blocks)\n\u001b[32m    366\u001b[39m out = \u001b[38;5;28mtype\u001b[39m(\u001b[38;5;28mself\u001b[39m).from_blocks(result_blocks, \u001b[38;5;28mself\u001b[39m.axes)\n",
      "\u001b[36mFile \u001b[39m\u001b[32m~\\AppData\\Local\\Packages\\PythonSoftwareFoundation.Python.3.11_qbz5n2kfra8p0\\LocalCache\\local-packages\\Python311\\site-packages\\pandas\\core\\internals\\blocks.py:758\u001b[39m, in \u001b[36mBlock.astype\u001b[39m\u001b[34m(self, dtype, copy, errors, using_cow, squeeze)\u001b[39m\n\u001b[32m    755\u001b[39m         \u001b[38;5;28;01mraise\u001b[39;00m \u001b[38;5;167;01mValueError\u001b[39;00m(\u001b[33m\"\u001b[39m\u001b[33mCan not squeeze with more than one column.\u001b[39m\u001b[33m\"\u001b[39m)\n\u001b[32m    756\u001b[39m     values = values[\u001b[32m0\u001b[39m, :]  \u001b[38;5;66;03m# type: ignore[call-overload]\u001b[39;00m\n\u001b[32m--> \u001b[39m\u001b[32m758\u001b[39m new_values = \u001b[43mastype_array_safe\u001b[49m\u001b[43m(\u001b[49m\u001b[43mvalues\u001b[49m\u001b[43m,\u001b[49m\u001b[43m \u001b[49m\u001b[43mdtype\u001b[49m\u001b[43m,\u001b[49m\u001b[43m \u001b[49m\u001b[43mcopy\u001b[49m\u001b[43m=\u001b[49m\u001b[43mcopy\u001b[49m\u001b[43m,\u001b[49m\u001b[43m \u001b[49m\u001b[43merrors\u001b[49m\u001b[43m=\u001b[49m\u001b[43merrors\u001b[49m\u001b[43m)\u001b[49m\n\u001b[32m    760\u001b[39m new_values = maybe_coerce_values(new_values)\n\u001b[32m    762\u001b[39m refs = \u001b[38;5;28;01mNone\u001b[39;00m\n",
      "\u001b[36mFile \u001b[39m\u001b[32m~\\AppData\\Local\\Packages\\PythonSoftwareFoundation.Python.3.11_qbz5n2kfra8p0\\LocalCache\\local-packages\\Python311\\site-packages\\pandas\\core\\dtypes\\astype.py:237\u001b[39m, in \u001b[36mastype_array_safe\u001b[39m\u001b[34m(values, dtype, copy, errors)\u001b[39m\n\u001b[32m    234\u001b[39m     dtype = dtype.numpy_dtype\n\u001b[32m    236\u001b[39m \u001b[38;5;28;01mtry\u001b[39;00m:\n\u001b[32m--> \u001b[39m\u001b[32m237\u001b[39m     new_values = \u001b[43mastype_array\u001b[49m\u001b[43m(\u001b[49m\u001b[43mvalues\u001b[49m\u001b[43m,\u001b[49m\u001b[43m \u001b[49m\u001b[43mdtype\u001b[49m\u001b[43m,\u001b[49m\u001b[43m \u001b[49m\u001b[43mcopy\u001b[49m\u001b[43m=\u001b[49m\u001b[43mcopy\u001b[49m\u001b[43m)\u001b[49m\n\u001b[32m    238\u001b[39m \u001b[38;5;28;01mexcept\u001b[39;00m (\u001b[38;5;167;01mValueError\u001b[39;00m, \u001b[38;5;167;01mTypeError\u001b[39;00m):\n\u001b[32m    239\u001b[39m     \u001b[38;5;66;03m# e.g. _astype_nansafe can fail on object-dtype of strings\u001b[39;00m\n\u001b[32m    240\u001b[39m     \u001b[38;5;66;03m#  trying to convert to float\u001b[39;00m\n\u001b[32m    241\u001b[39m     \u001b[38;5;28;01mif\u001b[39;00m errors == \u001b[33m\"\u001b[39m\u001b[33mignore\u001b[39m\u001b[33m\"\u001b[39m:\n",
      "\u001b[36mFile \u001b[39m\u001b[32m~\\AppData\\Local\\Packages\\PythonSoftwareFoundation.Python.3.11_qbz5n2kfra8p0\\LocalCache\\local-packages\\Python311\\site-packages\\pandas\\core\\dtypes\\astype.py:182\u001b[39m, in \u001b[36mastype_array\u001b[39m\u001b[34m(values, dtype, copy)\u001b[39m\n\u001b[32m    179\u001b[39m     values = values.astype(dtype, copy=copy)\n\u001b[32m    181\u001b[39m \u001b[38;5;28;01melse\u001b[39;00m:\n\u001b[32m--> \u001b[39m\u001b[32m182\u001b[39m     values = \u001b[43m_astype_nansafe\u001b[49m\u001b[43m(\u001b[49m\u001b[43mvalues\u001b[49m\u001b[43m,\u001b[49m\u001b[43m \u001b[49m\u001b[43mdtype\u001b[49m\u001b[43m,\u001b[49m\u001b[43m \u001b[49m\u001b[43mcopy\u001b[49m\u001b[43m=\u001b[49m\u001b[43mcopy\u001b[49m\u001b[43m)\u001b[49m\n\u001b[32m    184\u001b[39m \u001b[38;5;66;03m# in pandas we don't store numpy str dtypes, so convert to object\u001b[39;00m\n\u001b[32m    185\u001b[39m \u001b[38;5;28;01mif\u001b[39;00m \u001b[38;5;28misinstance\u001b[39m(dtype, np.dtype) \u001b[38;5;129;01mand\u001b[39;00m \u001b[38;5;28missubclass\u001b[39m(values.dtype.type, \u001b[38;5;28mstr\u001b[39m):\n",
      "\u001b[36mFile \u001b[39m\u001b[32m~\\AppData\\Local\\Packages\\PythonSoftwareFoundation.Python.3.11_qbz5n2kfra8p0\\LocalCache\\local-packages\\Python311\\site-packages\\pandas\\core\\dtypes\\astype.py:101\u001b[39m, in \u001b[36m_astype_nansafe\u001b[39m\u001b[34m(arr, dtype, copy, skipna)\u001b[39m\n\u001b[32m     96\u001b[39m     \u001b[38;5;28;01mreturn\u001b[39;00m lib.ensure_string_array(\n\u001b[32m     97\u001b[39m         arr, skipna=skipna, convert_na_value=\u001b[38;5;28;01mFalse\u001b[39;00m\n\u001b[32m     98\u001b[39m     ).reshape(shape)\n\u001b[32m    100\u001b[39m \u001b[38;5;28;01melif\u001b[39;00m np.issubdtype(arr.dtype, np.floating) \u001b[38;5;129;01mand\u001b[39;00m dtype.kind \u001b[38;5;129;01min\u001b[39;00m \u001b[33m\"\u001b[39m\u001b[33miu\u001b[39m\u001b[33m\"\u001b[39m:\n\u001b[32m--> \u001b[39m\u001b[32m101\u001b[39m     \u001b[38;5;28;01mreturn\u001b[39;00m \u001b[43m_astype_float_to_int_nansafe\u001b[49m\u001b[43m(\u001b[49m\u001b[43marr\u001b[49m\u001b[43m,\u001b[49m\u001b[43m \u001b[49m\u001b[43mdtype\u001b[49m\u001b[43m,\u001b[49m\u001b[43m \u001b[49m\u001b[43mcopy\u001b[49m\u001b[43m)\u001b[49m\n\u001b[32m    103\u001b[39m \u001b[38;5;28;01melif\u001b[39;00m arr.dtype == \u001b[38;5;28mobject\u001b[39m:\n\u001b[32m    104\u001b[39m     \u001b[38;5;66;03m# if we have a datetime/timedelta array of objects\u001b[39;00m\n\u001b[32m    105\u001b[39m     \u001b[38;5;66;03m# then coerce to datetime64[ns] and use DatetimeArray.astype\u001b[39;00m\n\u001b[32m    107\u001b[39m     \u001b[38;5;28;01mif\u001b[39;00m lib.is_np_dtype(dtype, \u001b[33m\"\u001b[39m\u001b[33mM\u001b[39m\u001b[33m\"\u001b[39m):\n",
      "\u001b[36mFile \u001b[39m\u001b[32m~\\AppData\\Local\\Packages\\PythonSoftwareFoundation.Python.3.11_qbz5n2kfra8p0\\LocalCache\\local-packages\\Python311\\site-packages\\pandas\\core\\dtypes\\astype.py:145\u001b[39m, in \u001b[36m_astype_float_to_int_nansafe\u001b[39m\u001b[34m(values, dtype, copy)\u001b[39m\n\u001b[32m    141\u001b[39m \u001b[38;5;250m\u001b[39m\u001b[33;03m\"\"\"\u001b[39;00m\n\u001b[32m    142\u001b[39m \u001b[33;03mastype with a check preventing converting NaN to an meaningless integer value.\u001b[39;00m\n\u001b[32m    143\u001b[39m \u001b[33;03m\"\"\"\u001b[39;00m\n\u001b[32m    144\u001b[39m \u001b[38;5;28;01mif\u001b[39;00m \u001b[38;5;129;01mnot\u001b[39;00m np.isfinite(values).all():\n\u001b[32m--> \u001b[39m\u001b[32m145\u001b[39m     \u001b[38;5;28;01mraise\u001b[39;00m IntCastingNaNError(\n\u001b[32m    146\u001b[39m         \u001b[33m\"\u001b[39m\u001b[33mCannot convert non-finite values (NA or inf) to integer\u001b[39m\u001b[33m\"\u001b[39m\n\u001b[32m    147\u001b[39m     )\n\u001b[32m    148\u001b[39m \u001b[38;5;28;01mif\u001b[39;00m dtype.kind == \u001b[33m\"\u001b[39m\u001b[33mu\u001b[39m\u001b[33m\"\u001b[39m:\n\u001b[32m    149\u001b[39m     \u001b[38;5;66;03m# GH#45151\u001b[39;00m\n\u001b[32m    150\u001b[39m     \u001b[38;5;28;01mif\u001b[39;00m \u001b[38;5;129;01mnot\u001b[39;00m (values >= \u001b[32m0\u001b[39m).all():\n",
      "\u001b[31mIntCastingNaNError\u001b[39m: Cannot convert non-finite values (NA or inf) to integer"
     ]
    }
   ],
   "source": [
    "df[[\"Region\"]] = df[[\"Region\"]].astype(int)"
   ]
  },
  {
   "cell_type": "code",
   "execution_count": null,
   "id": "f18db6dc",
   "metadata": {},
   "outputs": [
    {
     "name": "stdout",
     "output_type": "stream",
     "text": [
      "<class 'pandas.core.frame.DataFrame'>\n",
      "RangeIndex: 247 entries, 0 to 246\n",
      "Data columns (total 15 columns):\n",
      " #   Column       Non-Null Count  Dtype  \n",
      "---  ------       --------------  -----  \n",
      " 0   day          246 non-null    object \n",
      " 1   month        245 non-null    object \n",
      " 2   year         245 non-null    object \n",
      " 3   Temperature  245 non-null    object \n",
      " 4    RH          245 non-null    object \n",
      " 5    Ws          245 non-null    object \n",
      " 6   Rain         245 non-null    object \n",
      " 7   FFMC         245 non-null    object \n",
      " 8   DMC          245 non-null    object \n",
      " 9   DC           245 non-null    object \n",
      " 10  ISI          245 non-null    object \n",
      " 11  BUI          245 non-null    object \n",
      " 12  FWI          245 non-null    object \n",
      " 13  Classes      244 non-null    object \n",
      " 14  Region       245 non-null    float64\n",
      "dtypes: float64(1), object(14)\n",
      "memory usage: 29.1+ KB\n"
     ]
    }
   ],
   "source": [
    "df.info()"
   ]
  },
  {
   "cell_type": "code",
   "execution_count": null,
   "id": "d746acbb",
   "metadata": {},
   "outputs": [
    {
     "data": {
      "text/plain": [
       "day            1\n",
       "month          2\n",
       "year           2\n",
       "Temperature    2\n",
       " RH            2\n",
       " Ws            2\n",
       "Rain           2\n",
       "FFMC           2\n",
       "DMC            2\n",
       "DC             2\n",
       "ISI            2\n",
       "BUI            2\n",
       "FWI            2\n",
       "Classes        3\n",
       "Region         2\n",
       "dtype: int64"
      ]
     },
     "execution_count": 11,
     "metadata": {},
     "output_type": "execute_result"
    }
   ],
   "source": [
    "df.isnull().sum()"
   ]
  },
  {
   "cell_type": "code",
   "execution_count": null,
   "id": "95fddefb",
   "metadata": {},
   "outputs": [],
   "source": [
    "# Removing all null values -\n",
    "df = df.dropna().reset_index(drop = True)\n",
    "\n",
    "# Never use it directly \n",
    "# df.dropna().reset_index(drop = True)\n",
    "# This is wrong. Always use it in a variable."
   ]
  },
  {
   "cell_type": "code",
   "execution_count": null,
   "id": "70b02d38",
   "metadata": {},
   "outputs": [
    {
     "data": {
      "text/plain": [
       "day            0\n",
       "month          0\n",
       "year           0\n",
       "Temperature    0\n",
       " RH            0\n",
       " Ws            0\n",
       "Rain           0\n",
       "FFMC           0\n",
       "DMC            0\n",
       "DC             0\n",
       "ISI            0\n",
       "BUI            0\n",
       "FWI            0\n",
       "Classes        0\n",
       "Region         0\n",
       "dtype: int64"
      ]
     },
     "execution_count": 13,
     "metadata": {},
     "output_type": "execute_result"
    }
   ],
   "source": [
    "df.isnull().sum()"
   ]
  },
  {
   "cell_type": "code",
   "execution_count": null,
   "id": "a98ecd2e",
   "metadata": {},
   "outputs": [
    {
     "data": {
      "text/html": [
       "<div>\n",
       "<style scoped>\n",
       "    .dataframe tbody tr th:only-of-type {\n",
       "        vertical-align: middle;\n",
       "    }\n",
       "\n",
       "    .dataframe tbody tr th {\n",
       "        vertical-align: top;\n",
       "    }\n",
       "\n",
       "    .dataframe thead th {\n",
       "        text-align: right;\n",
       "    }\n",
       "</style>\n",
       "<table border=\"1\" class=\"dataframe\">\n",
       "  <thead>\n",
       "    <tr style=\"text-align: right;\">\n",
       "      <th></th>\n",
       "      <th>day</th>\n",
       "      <th>month</th>\n",
       "      <th>year</th>\n",
       "      <th>Temperature</th>\n",
       "      <th>RH</th>\n",
       "      <th>Ws</th>\n",
       "      <th>Rain</th>\n",
       "      <th>FFMC</th>\n",
       "      <th>DMC</th>\n",
       "      <th>DC</th>\n",
       "      <th>ISI</th>\n",
       "      <th>BUI</th>\n",
       "      <th>FWI</th>\n",
       "      <th>Classes</th>\n",
       "      <th>Region</th>\n",
       "    </tr>\n",
       "  </thead>\n",
       "  <tbody>\n",
       "    <tr>\n",
       "      <th>122</th>\n",
       "      <td>2</td>\n",
       "      <td>6</td>\n",
       "      <td>2012</td>\n",
       "      <td>30</td>\n",
       "      <td>73</td>\n",
       "      <td>13</td>\n",
       "      <td>4</td>\n",
       "      <td>55.7</td>\n",
       "      <td>2.7</td>\n",
       "      <td>7.8</td>\n",
       "      <td>0.6</td>\n",
       "      <td>2.9</td>\n",
       "      <td>0.2</td>\n",
       "      <td>not fire</td>\n",
       "      <td>1.0</td>\n",
       "    </tr>\n",
       "  </tbody>\n",
       "</table>\n",
       "</div>"
      ],
      "text/plain": [
       "    day month  year Temperature  RH  Ws Rain   FFMC  DMC   DC  ISI  BUI  FWI  \\\n",
       "122   2     6  2012          30  73  13     4  55.7  2.7  7.8  0.6  2.9  0.2   \n",
       "\n",
       "       Classes    Region  \n",
       "122  not fire        1.0  "
      ]
     },
     "execution_count": 14,
     "metadata": {},
     "output_type": "execute_result"
    }
   ],
   "source": [
    "df.loc[[122]]"
   ]
  },
  {
   "cell_type": "code",
   "execution_count": null,
   "id": "abcd2ad7",
   "metadata": {},
   "outputs": [],
   "source": [
    "# Removing index number 122\n",
    "df = df.drop(122).reset_index(drop = True)"
   ]
  },
  {
   "cell_type": "code",
   "execution_count": null,
   "id": "d3ac8bbd",
   "metadata": {},
   "outputs": [
    {
     "data": {
      "text/html": [
       "<div>\n",
       "<style scoped>\n",
       "    .dataframe tbody tr th:only-of-type {\n",
       "        vertical-align: middle;\n",
       "    }\n",
       "\n",
       "    .dataframe tbody tr th {\n",
       "        vertical-align: top;\n",
       "    }\n",
       "\n",
       "    .dataframe thead th {\n",
       "        text-align: right;\n",
       "    }\n",
       "</style>\n",
       "<table border=\"1\" class=\"dataframe\">\n",
       "  <thead>\n",
       "    <tr style=\"text-align: right;\">\n",
       "      <th></th>\n",
       "      <th>day</th>\n",
       "      <th>month</th>\n",
       "      <th>year</th>\n",
       "      <th>Temperature</th>\n",
       "      <th>RH</th>\n",
       "      <th>Ws</th>\n",
       "      <th>Rain</th>\n",
       "      <th>FFMC</th>\n",
       "      <th>DMC</th>\n",
       "      <th>DC</th>\n",
       "      <th>ISI</th>\n",
       "      <th>BUI</th>\n",
       "      <th>FWI</th>\n",
       "      <th>Classes</th>\n",
       "      <th>Region</th>\n",
       "    </tr>\n",
       "  </thead>\n",
       "  <tbody>\n",
       "    <tr>\n",
       "      <th>122</th>\n",
       "      <td>3</td>\n",
       "      <td>6</td>\n",
       "      <td>2012</td>\n",
       "      <td>29</td>\n",
       "      <td>80</td>\n",
       "      <td>14</td>\n",
       "      <td>2</td>\n",
       "      <td>48.7</td>\n",
       "      <td>2.2</td>\n",
       "      <td>7.6</td>\n",
       "      <td>0.3</td>\n",
       "      <td>2.6</td>\n",
       "      <td>0.1</td>\n",
       "      <td>not fire</td>\n",
       "      <td>1.0</td>\n",
       "    </tr>\n",
       "  </tbody>\n",
       "</table>\n",
       "</div>"
      ],
      "text/plain": [
       "    day month  year Temperature  RH  Ws Rain   FFMC  DMC   DC  ISI  BUI  FWI  \\\n",
       "122   3     6  2012          29  80  14     2  48.7  2.2  7.6  0.3  2.6  0.1   \n",
       "\n",
       "       Classes    Region  \n",
       "122  not fire        1.0  "
      ]
     },
     "execution_count": 16,
     "metadata": {},
     "output_type": "execute_result"
    }
   ],
   "source": [
    "df.loc[[122]]"
   ]
  },
  {
   "cell_type": "code",
   "execution_count": null,
   "id": "ad01cd6a",
   "metadata": {},
   "outputs": [
    {
     "data": {
      "text/plain": [
       "Index(['day', 'month', 'year', 'Temperature', ' RH', ' Ws', 'Rain ', 'FFMC',\n",
       "       'DMC', 'DC', 'ISI', 'BUI', 'FWI', 'Classes  ', 'Region'],\n",
       "      dtype='object')"
      ]
     },
     "execution_count": 17,
     "metadata": {},
     "output_type": "execute_result"
    }
   ],
   "source": [
    "df.columns"
   ]
  },
  {
   "cell_type": "markdown",
   "id": "61fba5e8",
   "metadata": {},
   "source": [
    "In the above output, we can see there are some whitespaces in the column name. This also needs to be handled."
   ]
  },
  {
   "cell_type": "code",
   "execution_count": null,
   "id": "6d26d6b5",
   "metadata": {},
   "outputs": [
    {
     "data": {
      "text/plain": [
       "Index(['day', 'month', 'year', 'Temperature', 'RH', 'Ws', 'Rain', 'FFMC',\n",
       "       'DMC', 'DC', 'ISI', 'BUI', 'FWI', 'Classes', 'Region'],\n",
       "      dtype='object')"
      ]
     },
     "execution_count": 18,
     "metadata": {},
     "output_type": "execute_result"
    }
   ],
   "source": [
    "# Fixing whitespaces-\n",
    "df.columns = df.columns.str.strip()\n",
    "df.columns"
   ]
  },
  {
   "cell_type": "code",
   "execution_count": null,
   "id": "00e29e95",
   "metadata": {},
   "outputs": [
    {
     "data": {
      "text/html": [
       "<div>\n",
       "<style scoped>\n",
       "    .dataframe tbody tr th:only-of-type {\n",
       "        vertical-align: middle;\n",
       "    }\n",
       "\n",
       "    .dataframe tbody tr th {\n",
       "        vertical-align: top;\n",
       "    }\n",
       "\n",
       "    .dataframe thead th {\n",
       "        text-align: right;\n",
       "    }\n",
       "</style>\n",
       "<table border=\"1\" class=\"dataframe\">\n",
       "  <thead>\n",
       "    <tr style=\"text-align: right;\">\n",
       "      <th></th>\n",
       "      <th>day</th>\n",
       "      <th>month</th>\n",
       "      <th>year</th>\n",
       "      <th>Temperature</th>\n",
       "      <th>RH</th>\n",
       "      <th>Ws</th>\n",
       "      <th>Rain</th>\n",
       "      <th>FFMC</th>\n",
       "      <th>DMC</th>\n",
       "      <th>DC</th>\n",
       "      <th>ISI</th>\n",
       "      <th>BUI</th>\n",
       "      <th>FWI</th>\n",
       "      <th>Classes</th>\n",
       "      <th>Region</th>\n",
       "    </tr>\n",
       "  </thead>\n",
       "  <tbody>\n",
       "    <tr>\n",
       "      <th>0</th>\n",
       "      <td>1</td>\n",
       "      <td>6</td>\n",
       "      <td>2012</td>\n",
       "      <td>29</td>\n",
       "      <td>57</td>\n",
       "      <td>18</td>\n",
       "      <td>0</td>\n",
       "      <td>65.7</td>\n",
       "      <td>3.4</td>\n",
       "      <td>7.6</td>\n",
       "      <td>1.3</td>\n",
       "      <td>3.4</td>\n",
       "      <td>0.5</td>\n",
       "      <td>not fire</td>\n",
       "      <td>0.0</td>\n",
       "    </tr>\n",
       "    <tr>\n",
       "      <th>1</th>\n",
       "      <td>2</td>\n",
       "      <td>6</td>\n",
       "      <td>2012</td>\n",
       "      <td>29</td>\n",
       "      <td>61</td>\n",
       "      <td>13</td>\n",
       "      <td>1.3</td>\n",
       "      <td>64.4</td>\n",
       "      <td>4.1</td>\n",
       "      <td>7.6</td>\n",
       "      <td>1</td>\n",
       "      <td>3.9</td>\n",
       "      <td>0.4</td>\n",
       "      <td>not fire</td>\n",
       "      <td>0.0</td>\n",
       "    </tr>\n",
       "    <tr>\n",
       "      <th>2</th>\n",
       "      <td>3</td>\n",
       "      <td>6</td>\n",
       "      <td>2012</td>\n",
       "      <td>26</td>\n",
       "      <td>82</td>\n",
       "      <td>22</td>\n",
       "      <td>13.1</td>\n",
       "      <td>47.1</td>\n",
       "      <td>2.5</td>\n",
       "      <td>7.1</td>\n",
       "      <td>0.3</td>\n",
       "      <td>2.7</td>\n",
       "      <td>0.1</td>\n",
       "      <td>not fire</td>\n",
       "      <td>0.0</td>\n",
       "    </tr>\n",
       "    <tr>\n",
       "      <th>3</th>\n",
       "      <td>4</td>\n",
       "      <td>6</td>\n",
       "      <td>2012</td>\n",
       "      <td>25</td>\n",
       "      <td>89</td>\n",
       "      <td>13</td>\n",
       "      <td>2.5</td>\n",
       "      <td>28.6</td>\n",
       "      <td>1.3</td>\n",
       "      <td>6.9</td>\n",
       "      <td>0</td>\n",
       "      <td>1.7</td>\n",
       "      <td>0</td>\n",
       "      <td>not fire</td>\n",
       "      <td>0.0</td>\n",
       "    </tr>\n",
       "    <tr>\n",
       "      <th>4</th>\n",
       "      <td>5</td>\n",
       "      <td>6</td>\n",
       "      <td>2012</td>\n",
       "      <td>27</td>\n",
       "      <td>77</td>\n",
       "      <td>16</td>\n",
       "      <td>0</td>\n",
       "      <td>64.8</td>\n",
       "      <td>3</td>\n",
       "      <td>14.2</td>\n",
       "      <td>1.2</td>\n",
       "      <td>3.9</td>\n",
       "      <td>0.5</td>\n",
       "      <td>not fire</td>\n",
       "      <td>0.0</td>\n",
       "    </tr>\n",
       "  </tbody>\n",
       "</table>\n",
       "</div>"
      ],
      "text/plain": [
       "  day month  year Temperature  RH  Ws  Rain  FFMC  DMC    DC  ISI  BUI  FWI  \\\n",
       "0   1     6  2012          29  57  18     0  65.7  3.4   7.6  1.3  3.4  0.5   \n",
       "1   2     6  2012          29  61  13   1.3  64.4  4.1   7.6    1  3.9  0.4   \n",
       "2   3     6  2012          26  82  22  13.1  47.1  2.5   7.1  0.3  2.7  0.1   \n",
       "3   4     6  2012          25  89  13   2.5  28.6  1.3   6.9    0  1.7    0   \n",
       "4   5     6  2012          27  77  16     0  64.8    3  14.2  1.2  3.9  0.5   \n",
       "\n",
       "       Classes  Region  \n",
       "0  not fire        0.0  \n",
       "1  not fire        0.0  \n",
       "2  not fire        0.0  \n",
       "3  not fire        0.0  \n",
       "4  not fire        0.0  "
      ]
     },
     "execution_count": 19,
     "metadata": {},
     "output_type": "execute_result"
    }
   ],
   "source": [
    "df.head()"
   ]
  },
  {
   "cell_type": "markdown",
   "id": "dd4f8819",
   "metadata": {},
   "source": [
    "The columns are object type. Let's convert columns till \"Ws\" into integer datatype."
   ]
  },
  {
   "cell_type": "code",
   "execution_count": null,
   "id": "17540f6c",
   "metadata": {},
   "outputs": [],
   "source": [
    "df[['day', 'month', 'year', 'Temperature', 'RH', 'Ws']] = df[['day', 'month', 'year', 'Temperature', 'RH', 'Ws']].astype(int)"
   ]
  },
  {
   "cell_type": "code",
   "execution_count": null,
   "id": "94cbc57f",
   "metadata": {},
   "outputs": [
    {
     "name": "stdout",
     "output_type": "stream",
     "text": [
      "<class 'pandas.core.frame.DataFrame'>\n",
      "RangeIndex: 241 entries, 0 to 240\n",
      "Data columns (total 15 columns):\n",
      " #   Column       Non-Null Count  Dtype  \n",
      "---  ------       --------------  -----  \n",
      " 0   day          241 non-null    int64  \n",
      " 1   month        241 non-null    int64  \n",
      " 2   year         241 non-null    int64  \n",
      " 3   Temperature  241 non-null    int64  \n",
      " 4   RH           241 non-null    int64  \n",
      " 5   Ws           241 non-null    int64  \n",
      " 6   Rain         241 non-null    object \n",
      " 7   FFMC         241 non-null    object \n",
      " 8   DMC          241 non-null    object \n",
      " 9   DC           241 non-null    object \n",
      " 10  ISI          241 non-null    object \n",
      " 11  BUI          241 non-null    object \n",
      " 12  FWI          241 non-null    object \n",
      " 13  Classes      241 non-null    object \n",
      " 14  Region       241 non-null    float64\n",
      "dtypes: float64(1), int64(6), object(8)\n",
      "memory usage: 28.4+ KB\n"
     ]
    }
   ],
   "source": [
    "df.info()"
   ]
  },
  {
   "cell_type": "markdown",
   "id": "663ed24a",
   "metadata": {},
   "source": [
    "> the object as Dtype means the column values are stored as Text or String. Due to its older behaviour, its still keep going."
   ]
  },
  {
   "cell_type": "markdown",
   "id": "51c84fcf",
   "metadata": {},
   "source": [
    "Now changing other columns in float Datatype"
   ]
  },
  {
   "cell_type": "code",
   "execution_count": null,
   "id": "b0a9b5b5",
   "metadata": {},
   "outputs": [
    {
     "data": {
      "text/html": [
       "<div>\n",
       "<style scoped>\n",
       "    .dataframe tbody tr th:only-of-type {\n",
       "        vertical-align: middle;\n",
       "    }\n",
       "\n",
       "    .dataframe tbody tr th {\n",
       "        vertical-align: top;\n",
       "    }\n",
       "\n",
       "    .dataframe thead th {\n",
       "        text-align: right;\n",
       "    }\n",
       "</style>\n",
       "<table border=\"1\" class=\"dataframe\">\n",
       "  <thead>\n",
       "    <tr style=\"text-align: right;\">\n",
       "      <th></th>\n",
       "      <th>day</th>\n",
       "      <th>month</th>\n",
       "      <th>year</th>\n",
       "      <th>Temperature</th>\n",
       "      <th>RH</th>\n",
       "      <th>Ws</th>\n",
       "      <th>Rain</th>\n",
       "      <th>FFMC</th>\n",
       "      <th>DMC</th>\n",
       "      <th>DC</th>\n",
       "      <th>ISI</th>\n",
       "      <th>BUI</th>\n",
       "      <th>FWI</th>\n",
       "      <th>Classes</th>\n",
       "      <th>Region</th>\n",
       "    </tr>\n",
       "  </thead>\n",
       "  <tbody>\n",
       "    <tr>\n",
       "      <th>0</th>\n",
       "      <td>1</td>\n",
       "      <td>6</td>\n",
       "      <td>2012</td>\n",
       "      <td>29</td>\n",
       "      <td>57</td>\n",
       "      <td>18</td>\n",
       "      <td>0</td>\n",
       "      <td>65.7</td>\n",
       "      <td>3.4</td>\n",
       "      <td>7.6</td>\n",
       "      <td>1.3</td>\n",
       "      <td>3.4</td>\n",
       "      <td>0.5</td>\n",
       "      <td>not fire</td>\n",
       "      <td>0.0</td>\n",
       "    </tr>\n",
       "    <tr>\n",
       "      <th>1</th>\n",
       "      <td>2</td>\n",
       "      <td>6</td>\n",
       "      <td>2012</td>\n",
       "      <td>29</td>\n",
       "      <td>61</td>\n",
       "      <td>13</td>\n",
       "      <td>1.3</td>\n",
       "      <td>64.4</td>\n",
       "      <td>4.1</td>\n",
       "      <td>7.6</td>\n",
       "      <td>1</td>\n",
       "      <td>3.9</td>\n",
       "      <td>0.4</td>\n",
       "      <td>not fire</td>\n",
       "      <td>0.0</td>\n",
       "    </tr>\n",
       "    <tr>\n",
       "      <th>2</th>\n",
       "      <td>3</td>\n",
       "      <td>6</td>\n",
       "      <td>2012</td>\n",
       "      <td>26</td>\n",
       "      <td>82</td>\n",
       "      <td>22</td>\n",
       "      <td>13.1</td>\n",
       "      <td>47.1</td>\n",
       "      <td>2.5</td>\n",
       "      <td>7.1</td>\n",
       "      <td>0.3</td>\n",
       "      <td>2.7</td>\n",
       "      <td>0.1</td>\n",
       "      <td>not fire</td>\n",
       "      <td>0.0</td>\n",
       "    </tr>\n",
       "    <tr>\n",
       "      <th>3</th>\n",
       "      <td>4</td>\n",
       "      <td>6</td>\n",
       "      <td>2012</td>\n",
       "      <td>25</td>\n",
       "      <td>89</td>\n",
       "      <td>13</td>\n",
       "      <td>2.5</td>\n",
       "      <td>28.6</td>\n",
       "      <td>1.3</td>\n",
       "      <td>6.9</td>\n",
       "      <td>0</td>\n",
       "      <td>1.7</td>\n",
       "      <td>0</td>\n",
       "      <td>not fire</td>\n",
       "      <td>0.0</td>\n",
       "    </tr>\n",
       "    <tr>\n",
       "      <th>4</th>\n",
       "      <td>5</td>\n",
       "      <td>6</td>\n",
       "      <td>2012</td>\n",
       "      <td>27</td>\n",
       "      <td>77</td>\n",
       "      <td>16</td>\n",
       "      <td>0</td>\n",
       "      <td>64.8</td>\n",
       "      <td>3</td>\n",
       "      <td>14.2</td>\n",
       "      <td>1.2</td>\n",
       "      <td>3.9</td>\n",
       "      <td>0.5</td>\n",
       "      <td>not fire</td>\n",
       "      <td>0.0</td>\n",
       "    </tr>\n",
       "  </tbody>\n",
       "</table>\n",
       "</div>"
      ],
      "text/plain": [
       "   day  month  year  Temperature  RH  Ws  Rain  FFMC  DMC    DC  ISI  BUI  \\\n",
       "0    1      6  2012           29  57  18     0  65.7  3.4   7.6  1.3  3.4   \n",
       "1    2      6  2012           29  61  13   1.3  64.4  4.1   7.6    1  3.9   \n",
       "2    3      6  2012           26  82  22  13.1  47.1  2.5   7.1  0.3  2.7   \n",
       "3    4      6  2012           25  89  13   2.5  28.6  1.3   6.9    0  1.7   \n",
       "4    5      6  2012           27  77  16     0  64.8    3  14.2  1.2  3.9   \n",
       "\n",
       "   FWI      Classes  Region  \n",
       "0  0.5  not fire        0.0  \n",
       "1  0.4  not fire        0.0  \n",
       "2  0.1  not fire        0.0  \n",
       "3    0  not fire        0.0  \n",
       "4  0.5  not fire        0.0  "
      ]
     },
     "execution_count": 22,
     "metadata": {},
     "output_type": "execute_result"
    }
   ],
   "source": [
    "df.head()"
   ]
  },
  {
   "cell_type": "code",
   "execution_count": null,
   "id": "491669ab",
   "metadata": {},
   "outputs": [],
   "source": [
    "#df[['Rain', 'FFMC', 'DMC', 'DC', 'ISI', 'BUI', 'FWI']] = df[['Rain', 'FFMC', 'DMC', 'DC', 'ISI', 'BUI', 'FWI']].astype(float)"
   ]
  },
  {
   "cell_type": "code",
   "execution_count": null,
   "id": "4c5b0b2a",
   "metadata": {},
   "outputs": [],
   "source": [
    "# That above thing can be done in more better way as -\n",
    "objects = [features for features in df.columns if df[features].dtypes == \"O\"]"
   ]
  },
  {
   "cell_type": "code",
   "execution_count": null,
   "id": "828bf456",
   "metadata": {},
   "outputs": [],
   "source": [
    "for i in objects:\n",
    "    if i != \"Classes\":\n",
    "        df[i] = df[i].astype(float)"
   ]
  },
  {
   "cell_type": "code",
   "execution_count": null,
   "id": "9a67ce63",
   "metadata": {},
   "outputs": [
    {
     "name": "stdout",
     "output_type": "stream",
     "text": [
      "<class 'pandas.core.frame.DataFrame'>\n",
      "RangeIndex: 241 entries, 0 to 240\n",
      "Data columns (total 15 columns):\n",
      " #   Column       Non-Null Count  Dtype  \n",
      "---  ------       --------------  -----  \n",
      " 0   day          241 non-null    int64  \n",
      " 1   month        241 non-null    int64  \n",
      " 2   year         241 non-null    int64  \n",
      " 3   Temperature  241 non-null    int64  \n",
      " 4   RH           241 non-null    int64  \n",
      " 5   Ws           241 non-null    int64  \n",
      " 6   Rain         241 non-null    float64\n",
      " 7   FFMC         241 non-null    float64\n",
      " 8   DMC          241 non-null    float64\n",
      " 9   DC           241 non-null    float64\n",
      " 10  ISI          241 non-null    float64\n",
      " 11  BUI          241 non-null    float64\n",
      " 12  FWI          241 non-null    float64\n",
      " 13  Classes      241 non-null    object \n",
      " 14  Region       241 non-null    float64\n",
      "dtypes: float64(8), int64(6), object(1)\n",
      "memory usage: 28.4+ KB\n"
     ]
    }
   ],
   "source": [
    "df.info()"
   ]
  },
  {
   "cell_type": "markdown",
   "id": "b2091637",
   "metadata": {},
   "source": [
    "The feature \"Classes\" is a categorical feature so it needs to be as object."
   ]
  },
  {
   "cell_type": "code",
   "execution_count": null,
   "id": "1a7fe0dd",
   "metadata": {},
   "outputs": [],
   "source": [
    "# Lets save the cleaned dataset\n",
    "df.to_csv(\"Cleaned-Algerian-Fire_Dataset.csv\", index = False)"
   ]
  },
  {
   "cell_type": "markdown",
   "id": "bfb89423",
   "metadata": {},
   "source": [
    "# Exploratory Data Analysis"
   ]
  },
  {
   "cell_type": "code",
   "execution_count": null,
   "id": "8e1847b2",
   "metadata": {},
   "outputs": [],
   "source": [
    "# Removing unnecessary features\n",
    "df_copy = df.drop(['day', 'month', 'year'], axis = 1 )"
   ]
  },
  {
   "cell_type": "code",
   "execution_count": null,
   "id": "844674dd",
   "metadata": {},
   "outputs": [
    {
     "data": {
      "text/html": [
       "<div>\n",
       "<style scoped>\n",
       "    .dataframe tbody tr th:only-of-type {\n",
       "        vertical-align: middle;\n",
       "    }\n",
       "\n",
       "    .dataframe tbody tr th {\n",
       "        vertical-align: top;\n",
       "    }\n",
       "\n",
       "    .dataframe thead th {\n",
       "        text-align: right;\n",
       "    }\n",
       "</style>\n",
       "<table border=\"1\" class=\"dataframe\">\n",
       "  <thead>\n",
       "    <tr style=\"text-align: right;\">\n",
       "      <th></th>\n",
       "      <th>Temperature</th>\n",
       "      <th>RH</th>\n",
       "      <th>Ws</th>\n",
       "      <th>Rain</th>\n",
       "      <th>FFMC</th>\n",
       "      <th>DMC</th>\n",
       "      <th>DC</th>\n",
       "      <th>ISI</th>\n",
       "      <th>BUI</th>\n",
       "      <th>FWI</th>\n",
       "      <th>Classes</th>\n",
       "      <th>Region</th>\n",
       "    </tr>\n",
       "  </thead>\n",
       "  <tbody>\n",
       "    <tr>\n",
       "      <th>0</th>\n",
       "      <td>29</td>\n",
       "      <td>57</td>\n",
       "      <td>18</td>\n",
       "      <td>0.0</td>\n",
       "      <td>65.7</td>\n",
       "      <td>3.4</td>\n",
       "      <td>7.6</td>\n",
       "      <td>1.3</td>\n",
       "      <td>3.4</td>\n",
       "      <td>0.5</td>\n",
       "      <td>not fire</td>\n",
       "      <td>0.0</td>\n",
       "    </tr>\n",
       "    <tr>\n",
       "      <th>1</th>\n",
       "      <td>29</td>\n",
       "      <td>61</td>\n",
       "      <td>13</td>\n",
       "      <td>1.3</td>\n",
       "      <td>64.4</td>\n",
       "      <td>4.1</td>\n",
       "      <td>7.6</td>\n",
       "      <td>1.0</td>\n",
       "      <td>3.9</td>\n",
       "      <td>0.4</td>\n",
       "      <td>not fire</td>\n",
       "      <td>0.0</td>\n",
       "    </tr>\n",
       "    <tr>\n",
       "      <th>2</th>\n",
       "      <td>26</td>\n",
       "      <td>82</td>\n",
       "      <td>22</td>\n",
       "      <td>13.1</td>\n",
       "      <td>47.1</td>\n",
       "      <td>2.5</td>\n",
       "      <td>7.1</td>\n",
       "      <td>0.3</td>\n",
       "      <td>2.7</td>\n",
       "      <td>0.1</td>\n",
       "      <td>not fire</td>\n",
       "      <td>0.0</td>\n",
       "    </tr>\n",
       "    <tr>\n",
       "      <th>3</th>\n",
       "      <td>25</td>\n",
       "      <td>89</td>\n",
       "      <td>13</td>\n",
       "      <td>2.5</td>\n",
       "      <td>28.6</td>\n",
       "      <td>1.3</td>\n",
       "      <td>6.9</td>\n",
       "      <td>0.0</td>\n",
       "      <td>1.7</td>\n",
       "      <td>0.0</td>\n",
       "      <td>not fire</td>\n",
       "      <td>0.0</td>\n",
       "    </tr>\n",
       "    <tr>\n",
       "      <th>4</th>\n",
       "      <td>27</td>\n",
       "      <td>77</td>\n",
       "      <td>16</td>\n",
       "      <td>0.0</td>\n",
       "      <td>64.8</td>\n",
       "      <td>3.0</td>\n",
       "      <td>14.2</td>\n",
       "      <td>1.2</td>\n",
       "      <td>3.9</td>\n",
       "      <td>0.5</td>\n",
       "      <td>not fire</td>\n",
       "      <td>0.0</td>\n",
       "    </tr>\n",
       "  </tbody>\n",
       "</table>\n",
       "</div>"
      ],
      "text/plain": [
       "   Temperature  RH  Ws  Rain  FFMC  DMC    DC  ISI  BUI  FWI      Classes  \\\n",
       "0           29  57  18   0.0  65.7  3.4   7.6  1.3  3.4  0.5  not fire      \n",
       "1           29  61  13   1.3  64.4  4.1   7.6  1.0  3.9  0.4  not fire      \n",
       "2           26  82  22  13.1  47.1  2.5   7.1  0.3  2.7  0.1  not fire      \n",
       "3           25  89  13   2.5  28.6  1.3   6.9  0.0  1.7  0.0  not fire      \n",
       "4           27  77  16   0.0  64.8  3.0  14.2  1.2  3.9  0.5  not fire      \n",
       "\n",
       "   Region  \n",
       "0     0.0  \n",
       "1     0.0  \n",
       "2     0.0  \n",
       "3     0.0  \n",
       "4     0.0  "
      ]
     },
     "execution_count": 29,
     "metadata": {},
     "output_type": "execute_result"
    }
   ],
   "source": [
    "df_copy.head()"
   ]
  },
  {
   "cell_type": "code",
   "execution_count": null,
   "id": "09a33ca3",
   "metadata": {},
   "outputs": [],
   "source": [
    "# Now Encoding of the categories in Classes column.\n",
    "# Making them 1 and 0 based on fire and not fire\n",
    "df_copy['Classes'] = np.where(df['Classes'].str.contains('not fire'), 0, 1)"
   ]
  },
  {
   "cell_type": "code",
   "execution_count": null,
   "id": "f9de1167",
   "metadata": {},
   "outputs": [
    {
     "data": {
      "text/html": [
       "<div>\n",
       "<style scoped>\n",
       "    .dataframe tbody tr th:only-of-type {\n",
       "        vertical-align: middle;\n",
       "    }\n",
       "\n",
       "    .dataframe tbody tr th {\n",
       "        vertical-align: top;\n",
       "    }\n",
       "\n",
       "    .dataframe thead th {\n",
       "        text-align: right;\n",
       "    }\n",
       "</style>\n",
       "<table border=\"1\" class=\"dataframe\">\n",
       "  <thead>\n",
       "    <tr style=\"text-align: right;\">\n",
       "      <th></th>\n",
       "      <th>Temperature</th>\n",
       "      <th>RH</th>\n",
       "      <th>Ws</th>\n",
       "      <th>Rain</th>\n",
       "      <th>FFMC</th>\n",
       "      <th>DMC</th>\n",
       "      <th>DC</th>\n",
       "      <th>ISI</th>\n",
       "      <th>BUI</th>\n",
       "      <th>FWI</th>\n",
       "      <th>Classes</th>\n",
       "      <th>Region</th>\n",
       "    </tr>\n",
       "  </thead>\n",
       "  <tbody>\n",
       "    <tr>\n",
       "      <th>0</th>\n",
       "      <td>29</td>\n",
       "      <td>57</td>\n",
       "      <td>18</td>\n",
       "      <td>0.0</td>\n",
       "      <td>65.7</td>\n",
       "      <td>3.4</td>\n",
       "      <td>7.6</td>\n",
       "      <td>1.3</td>\n",
       "      <td>3.4</td>\n",
       "      <td>0.5</td>\n",
       "      <td>0</td>\n",
       "      <td>0.0</td>\n",
       "    </tr>\n",
       "    <tr>\n",
       "      <th>1</th>\n",
       "      <td>29</td>\n",
       "      <td>61</td>\n",
       "      <td>13</td>\n",
       "      <td>1.3</td>\n",
       "      <td>64.4</td>\n",
       "      <td>4.1</td>\n",
       "      <td>7.6</td>\n",
       "      <td>1.0</td>\n",
       "      <td>3.9</td>\n",
       "      <td>0.4</td>\n",
       "      <td>0</td>\n",
       "      <td>0.0</td>\n",
       "    </tr>\n",
       "    <tr>\n",
       "      <th>2</th>\n",
       "      <td>26</td>\n",
       "      <td>82</td>\n",
       "      <td>22</td>\n",
       "      <td>13.1</td>\n",
       "      <td>47.1</td>\n",
       "      <td>2.5</td>\n",
       "      <td>7.1</td>\n",
       "      <td>0.3</td>\n",
       "      <td>2.7</td>\n",
       "      <td>0.1</td>\n",
       "      <td>0</td>\n",
       "      <td>0.0</td>\n",
       "    </tr>\n",
       "    <tr>\n",
       "      <th>3</th>\n",
       "      <td>25</td>\n",
       "      <td>89</td>\n",
       "      <td>13</td>\n",
       "      <td>2.5</td>\n",
       "      <td>28.6</td>\n",
       "      <td>1.3</td>\n",
       "      <td>6.9</td>\n",
       "      <td>0.0</td>\n",
       "      <td>1.7</td>\n",
       "      <td>0.0</td>\n",
       "      <td>0</td>\n",
       "      <td>0.0</td>\n",
       "    </tr>\n",
       "    <tr>\n",
       "      <th>4</th>\n",
       "      <td>27</td>\n",
       "      <td>77</td>\n",
       "      <td>16</td>\n",
       "      <td>0.0</td>\n",
       "      <td>64.8</td>\n",
       "      <td>3.0</td>\n",
       "      <td>14.2</td>\n",
       "      <td>1.2</td>\n",
       "      <td>3.9</td>\n",
       "      <td>0.5</td>\n",
       "      <td>0</td>\n",
       "      <td>0.0</td>\n",
       "    </tr>\n",
       "  </tbody>\n",
       "</table>\n",
       "</div>"
      ],
      "text/plain": [
       "   Temperature  RH  Ws  Rain  FFMC  DMC    DC  ISI  BUI  FWI  Classes  Region\n",
       "0           29  57  18   0.0  65.7  3.4   7.6  1.3  3.4  0.5        0     0.0\n",
       "1           29  61  13   1.3  64.4  4.1   7.6  1.0  3.9  0.4        0     0.0\n",
       "2           26  82  22  13.1  47.1  2.5   7.1  0.3  2.7  0.1        0     0.0\n",
       "3           25  89  13   2.5  28.6  1.3   6.9  0.0  1.7  0.0        0     0.0\n",
       "4           27  77  16   0.0  64.8  3.0  14.2  1.2  3.9  0.5        0     0.0"
      ]
     },
     "execution_count": 162,
     "metadata": {},
     "output_type": "execute_result"
    }
   ],
   "source": [
    "df_copy.head()"
   ]
  },
  {
   "cell_type": "code",
   "execution_count": null,
   "id": "8b7e1121",
   "metadata": {},
   "outputs": [
    {
     "data": {
      "text/plain": [
       "array([0, 1])"
      ]
     },
     "execution_count": 31,
     "metadata": {},
     "output_type": "execute_result"
    }
   ],
   "source": [
    "df_copy['Classes'].unique()"
   ]
  },
  {
   "cell_type": "code",
   "execution_count": null,
   "id": "47b09e3c",
   "metadata": {},
   "outputs": [
    {
     "data": {
      "text/plain": [
       "Classes\n",
       "1    137\n",
       "0    104\n",
       "Name: count, dtype: int64"
      ]
     },
     "execution_count": 32,
     "metadata": {},
     "output_type": "execute_result"
    }
   ],
   "source": [
    "df_copy['Classes'].value_counts()"
   ]
  },
  {
   "cell_type": "markdown",
   "id": "a263f8ab",
   "metadata": {},
   "source": [
    "In the table above, we can see there are multiple \"not fire\" but the result is somewhat different than what we expected. The main reason is the whitespaces which can be present in the values. \n",
    "Now lets clean that too..."
   ]
  },
  {
   "cell_type": "code",
   "execution_count": null,
   "id": "7eb76ef1",
   "metadata": {},
   "outputs": [],
   "source": [
    "# df_copy['Classes'] = np.where(df['Classes'].str.contains('not fire'), 0, 1) \n",
    "# Use this command to fix that issue. I already used it above."
   ]
  },
  {
   "cell_type": "code",
   "execution_count": null,
   "id": "677db099",
   "metadata": {},
   "outputs": [
    {
     "data": {
      "image/png": "[encoded data removed]",
      "text/plain": [
       "<Figure size 2000x1600 with 12 Axes>"
      ]
     },
     "metadata": {},
     "output_type": "display_data"
    }
   ],
   "source": [
    "# Visualizing the data for all features -\n",
    "#plt.style.use('seaborn')\n",
    "df_copy.hist(bins = 50, figsize=(20, 16))\n",
    "plt.show()"
   ]
  },
  {
   "cell_type": "code",
   "execution_count": null,
   "id": "f1a22706",
   "metadata": {},
   "outputs": [
    {
     "data": {
      "text/plain": [
       "Classes\n",
       "1    56.846473\n",
       "0    43.153527\n",
       "Name: proportion, dtype: float64"
      ]
     },
     "execution_count": 35,
     "metadata": {},
     "output_type": "execute_result"
    }
   ],
   "source": [
    "# Percentage on Pie Chart\n",
    "percentage = df_copy['Classes'].value_counts(normalize = True) * 100\n",
    "percentage\n",
    "# 1- Fires\n",
    "# 0- Not Fires"
   ]
  },
  {
   "cell_type": "code",
   "execution_count": null,
   "id": "f4792ebe",
   "metadata": {},
   "outputs": [
    {
     "data": {
      "image/png": "[encoded data removed]",
      "text/plain": [
       "<Figure size 1000x600 with 1 Axes>"
      ]
     },
     "metadata": {},
     "output_type": "display_data"
    }
   ],
   "source": [
    "# Demonstrating on Pie Chart\n",
    "classlables = ['Fire', 'Not Fire']\n",
    "plt.figure(figsize = (10, 6))\n",
    "plt.pie(percentage, labels = classlables, autopct=\"%1.1f%%\")\n",
    "plt.title(\"Percentage of Fire and Not Fire\")\n",
    "plt.show()"
   ]
  },
  {
   "cell_type": "code",
   "execution_count": null,
   "id": "06d00242",
   "metadata": {},
   "outputs": [
    {
     "data": {
      "text/html": [
       "<div>\n",
       "<style scoped>\n",
       "    .dataframe tbody tr th:only-of-type {\n",
       "        vertical-align: middle;\n",
       "    }\n",
       "\n",
       "    .dataframe tbody tr th {\n",
       "        vertical-align: top;\n",
       "    }\n",
       "\n",
       "    .dataframe thead th {\n",
       "        text-align: right;\n",
       "    }\n",
       "</style>\n",
       "<table border=\"1\" class=\"dataframe\">\n",
       "  <thead>\n",
       "    <tr style=\"text-align: right;\">\n",
       "      <th></th>\n",
       "      <th>Temperature</th>\n",
       "      <th>RH</th>\n",
       "      <th>Ws</th>\n",
       "      <th>Rain</th>\n",
       "      <th>FFMC</th>\n",
       "      <th>DMC</th>\n",
       "      <th>DC</th>\n",
       "      <th>ISI</th>\n",
       "      <th>BUI</th>\n",
       "      <th>FWI</th>\n",
       "      <th>Classes</th>\n",
       "      <th>Region</th>\n",
       "    </tr>\n",
       "  </thead>\n",
       "  <tbody>\n",
       "    <tr>\n",
       "      <th>Temperature</th>\n",
       "      <td>1.000000</td>\n",
       "      <td>-0.651184</td>\n",
       "      <td>-0.288538</td>\n",
       "      <td>-0.324519</td>\n",
       "      <td>0.679353</td>\n",
       "      <td>0.485406</td>\n",
       "      <td>0.375432</td>\n",
       "      <td>0.604182</td>\n",
       "      <td>0.459374</td>\n",
       "      <td>0.566649</td>\n",
       "      <td>0.516166</td>\n",
       "      <td>0.273554</td>\n",
       "    </tr>\n",
       "    <tr>\n",
       "      <th>RH</th>\n",
       "      <td>-0.651184</td>\n",
       "      <td>1.000000</td>\n",
       "      <td>0.251609</td>\n",
       "      <td>0.219067</td>\n",
       "      <td>-0.643718</td>\n",
       "      <td>-0.405444</td>\n",
       "      <td>-0.223201</td>\n",
       "      <td>-0.685228</td>\n",
       "      <td>-0.350446</td>\n",
       "      <td>-0.578951</td>\n",
       "      <td>-0.428928</td>\n",
       "      <td>-0.410789</td>\n",
       "    </tr>\n",
       "    <tr>\n",
       "      <th>Ws</th>\n",
       "      <td>-0.288538</td>\n",
       "      <td>0.251609</td>\n",
       "      <td>1.000000</td>\n",
       "      <td>0.179167</td>\n",
       "      <td>-0.182322</td>\n",
       "      <td>-0.009466</td>\n",
       "      <td>0.072004</td>\n",
       "      <td>-0.000320</td>\n",
       "      <td>0.023004</td>\n",
       "      <td>0.024420</td>\n",
       "      <td>-0.080857</td>\n",
       "      <td>-0.173839</td>\n",
       "    </tr>\n",
       "    <tr>\n",
       "      <th>Rain</th>\n",
       "      <td>-0.324519</td>\n",
       "      <td>0.219067</td>\n",
       "      <td>0.179167</td>\n",
       "      <td>1.000000</td>\n",
       "      <td>-0.541693</td>\n",
       "      <td>-0.285066</td>\n",
       "      <td>-0.294782</td>\n",
       "      <td>-0.344192</td>\n",
       "      <td>-0.296227</td>\n",
       "      <td>-0.321227</td>\n",
       "      <td>-0.375657</td>\n",
       "      <td>-0.047080</td>\n",
       "    </tr>\n",
       "    <tr>\n",
       "      <th>FFMC</th>\n",
       "      <td>0.679353</td>\n",
       "      <td>-0.643718</td>\n",
       "      <td>-0.182322</td>\n",
       "      <td>-0.541693</td>\n",
       "      <td>1.000000</td>\n",
       "      <td>0.599438</td>\n",
       "      <td>0.502847</td>\n",
       "      <td>0.737525</td>\n",
       "      <td>0.587699</td>\n",
       "      <td>0.688538</td>\n",
       "      <td>0.766622</td>\n",
       "      <td>0.237933</td>\n",
       "    </tr>\n",
       "    <tr>\n",
       "      <th>DMC</th>\n",
       "      <td>0.485406</td>\n",
       "      <td>-0.405444</td>\n",
       "      <td>-0.009466</td>\n",
       "      <td>-0.285066</td>\n",
       "      <td>0.599438</td>\n",
       "      <td>1.000000</td>\n",
       "      <td>0.875084</td>\n",
       "      <td>0.677847</td>\n",
       "      <td>0.982107</td>\n",
       "      <td>0.874943</td>\n",
       "      <td>0.581867</td>\n",
       "      <td>0.201872</td>\n",
       "    </tr>\n",
       "    <tr>\n",
       "      <th>DC</th>\n",
       "      <td>0.375432</td>\n",
       "      <td>-0.223201</td>\n",
       "      <td>0.072004</td>\n",
       "      <td>-0.294782</td>\n",
       "      <td>0.502847</td>\n",
       "      <td>0.875084</td>\n",
       "      <td>1.000000</td>\n",
       "      <td>0.505104</td>\n",
       "      <td>0.941620</td>\n",
       "      <td>0.737783</td>\n",
       "      <td>0.507224</td>\n",
       "      <td>-0.072004</td>\n",
       "    </tr>\n",
       "    <tr>\n",
       "      <th>ISI</th>\n",
       "      <td>0.604182</td>\n",
       "      <td>-0.685228</td>\n",
       "      <td>-0.000320</td>\n",
       "      <td>-0.344192</td>\n",
       "      <td>0.737525</td>\n",
       "      <td>0.677847</td>\n",
       "      <td>0.505104</td>\n",
       "      <td>1.000000</td>\n",
       "      <td>0.641194</td>\n",
       "      <td>0.922326</td>\n",
       "      <td>0.732736</td>\n",
       "      <td>0.273803</td>\n",
       "    </tr>\n",
       "    <tr>\n",
       "      <th>BUI</th>\n",
       "      <td>0.459374</td>\n",
       "      <td>-0.350446</td>\n",
       "      <td>0.023004</td>\n",
       "      <td>-0.296227</td>\n",
       "      <td>0.587699</td>\n",
       "      <td>0.982107</td>\n",
       "      <td>0.941620</td>\n",
       "      <td>0.641194</td>\n",
       "      <td>1.000000</td>\n",
       "      <td>0.856918</td>\n",
       "      <td>0.582868</td>\n",
       "      <td>0.098330</td>\n",
       "    </tr>\n",
       "    <tr>\n",
       "      <th>FWI</th>\n",
       "      <td>0.566649</td>\n",
       "      <td>-0.578951</td>\n",
       "      <td>0.024420</td>\n",
       "      <td>-0.321227</td>\n",
       "      <td>0.688538</td>\n",
       "      <td>0.874943</td>\n",
       "      <td>0.737783</td>\n",
       "      <td>0.922326</td>\n",
       "      <td>0.856918</td>\n",
       "      <td>1.000000</td>\n",
       "      <td>0.716898</td>\n",
       "      <td>0.206362</td>\n",
       "    </tr>\n",
       "    <tr>\n",
       "      <th>Classes</th>\n",
       "      <td>0.516166</td>\n",
       "      <td>-0.428928</td>\n",
       "      <td>-0.080857</td>\n",
       "      <td>-0.375657</td>\n",
       "      <td>0.766622</td>\n",
       "      <td>0.581867</td>\n",
       "      <td>0.507224</td>\n",
       "      <td>0.732736</td>\n",
       "      <td>0.582868</td>\n",
       "      <td>0.716898</td>\n",
       "      <td>1.000000</td>\n",
       "      <td>0.173476</td>\n",
       "    </tr>\n",
       "    <tr>\n",
       "      <th>Region</th>\n",
       "      <td>0.273554</td>\n",
       "      <td>-0.410789</td>\n",
       "      <td>-0.173839</td>\n",
       "      <td>-0.047080</td>\n",
       "      <td>0.237933</td>\n",
       "      <td>0.201872</td>\n",
       "      <td>-0.072004</td>\n",
       "      <td>0.273803</td>\n",
       "      <td>0.098330</td>\n",
       "      <td>0.206362</td>\n",
       "      <td>0.173476</td>\n",
       "      <td>1.000000</td>\n",
       "    </tr>\n",
       "  </tbody>\n",
       "</table>\n",
       "</div>"
      ],
      "text/plain": [
       "             Temperature        RH        Ws      Rain      FFMC       DMC  \\\n",
       "Temperature     1.000000 -0.651184 -0.288538 -0.324519  0.679353  0.485406   \n",
       "RH             -0.651184  1.000000  0.251609  0.219067 -0.643718 -0.405444   \n",
       "Ws             -0.288538  0.251609  1.000000  0.179167 -0.182322 -0.009466   \n",
       "Rain           -0.324519  0.219067  0.179167  1.000000 -0.541693 -0.285066   \n",
       "FFMC            0.679353 -0.643718 -0.182322 -0.541693  1.000000  0.599438   \n",
       "DMC             0.485406 -0.405444 -0.009466 -0.285066  0.599438  1.000000   \n",
       "DC              0.375432 -0.223201  0.072004 -0.294782  0.502847  0.875084   \n",
       "ISI             0.604182 -0.685228 -0.000320 -0.344192  0.737525  0.677847   \n",
       "BUI             0.459374 -0.350446  0.023004 -0.296227  0.587699  0.982107   \n",
       "FWI             0.566649 -0.578951  0.024420 -0.321227  0.688538  0.874943   \n",
       "Classes         0.516166 -0.428928 -0.080857 -0.375657  0.766622  0.581867   \n",
       "Region          0.273554 -0.410789 -0.173839 -0.047080  0.237933  0.201872   \n",
       "\n",
       "                   DC       ISI       BUI       FWI   Classes    Region  \n",
       "Temperature  0.375432  0.604182  0.459374  0.566649  0.516166  0.273554  \n",
       "RH          -0.223201 -0.685228 -0.350446 -0.578951 -0.428928 -0.410789  \n",
       "Ws           0.072004 -0.000320  0.023004  0.024420 -0.080857 -0.173839  \n",
       "Rain        -0.294782 -0.344192 -0.296227 -0.321227 -0.375657 -0.047080  \n",
       "FFMC         0.502847  0.737525  0.587699  0.688538  0.766622  0.237933  \n",
       "DMC          0.875084  0.677847  0.982107  0.874943  0.581867  0.201872  \n",
       "DC           1.000000  0.505104  0.941620  0.737783  0.507224 -0.072004  \n",
       "ISI          0.505104  1.000000  0.641194  0.922326  0.732736  0.273803  \n",
       "BUI          0.941620  0.641194  1.000000  0.856918  0.582868  0.098330  \n",
       "FWI          0.737783  0.922326  0.856918  1.000000  0.716898  0.206362  \n",
       "Classes      0.507224  0.732736  0.582868  0.716898  1.000000  0.173476  \n",
       "Region      -0.072004  0.273803  0.098330  0.206362  0.173476  1.000000  "
      ]
     },
     "execution_count": 37,
     "metadata": {},
     "output_type": "execute_result"
    }
   ],
   "source": [
    "df_copy.corr()"
   ]
  },
  {
   "cell_type": "code",
   "execution_count": null,
   "id": "a7b07793",
   "metadata": {},
   "outputs": [
    {
     "data": {
      "text/plain": [
       "<Axes: >"
      ]
     },
     "execution_count": 38,
     "metadata": {},
     "output_type": "execute_result"
    },
    {
     "data": {
      "image/png": "[encoded data removed]",
      "text/plain": [
       "<Figure size 640x480 with 2 Axes>"
      ]
     },
     "metadata": {},
     "output_type": "display_data"
    }
   ],
   "source": [
    "sns.heatmap(df_copy.corr())"
   ]
  },
  {
   "cell_type": "code",
   "execution_count": null,
   "id": "ae892c40",
   "metadata": {},
   "outputs": [
    {
     "data": {
      "text/plain": [
       "<Axes: ylabel='FWI'>"
      ]
     },
     "execution_count": 39,
     "metadata": {},
     "output_type": "execute_result"
    },
    {
     "data": {
      "image/png": "[encoded data removed]",
      "text/plain": [
       "<Figure size 640x480 with 1 Axes>"
      ]
     },
     "metadata": {},
     "output_type": "display_data"
    }
   ],
   "source": [
    "# Checking for any outliers or others -\n",
    "sns.boxplot(df[\"FWI\"])"
   ]
  },
  {
   "cell_type": "code",
   "execution_count": null,
   "id": "f76ef178",
   "metadata": {},
   "outputs": [],
   "source": [
    "df['Classes'] = np.where(df['Classes'].str.contains('not fire'), 'not fire', 'fire')"
   ]
  },
  {
   "cell_type": "code",
   "execution_count": null,
   "id": "42fb6f39",
   "metadata": {},
   "outputs": [
    {
     "data": {
      "text/plain": [
       "Text(0.5, 1.0, 'Fire Analysis of Bejaia Region')"
      ]
     },
     "execution_count": 44,
     "metadata": {},
     "output_type": "execute_result"
    },
    {
     "data": {
      "image/png": "[encoded data removed]",
      "text/plain": [
       "<Figure size 1000x700 with 1 Axes>"
      ]
     },
     "metadata": {},
     "output_type": "display_data"
    }
   ],
   "source": [
    "# Monthly Fire Analysis\n",
    "plt.subplots(figsize = (10, 7))\n",
    "sns.countplot(x = 'month', hue = \"Classes\", data = df)\n",
    "sns.set_style('whitegrid')\n",
    "\n",
    "plt.xlabel(\"Months\")\n",
    "plt.ylabel(\"Number of Fires \")\n",
    "plt.title(\"Fire Analysis of Bejaia Region\")"
   ]
  },
  {
   "cell_type": "markdown",
   "id": "1f7c1913",
   "metadata": {},
   "source": [
    "# Feature Selection"
   ]
  },
  {
   "cell_type": "code",
   "execution_count": null,
   "id": "215b3d7a",
   "metadata": {},
   "outputs": [
    {
     "name": "stdout",
     "output_type": "stream",
     "text": [
      "['.git', 'Algerian_Fire.ipynb', 'Cleaned-Algerian-Fire_Dataset.csv', 'crime-against-women-in-india-2001-2021.ipynb', 'DataSets', 'Feature Engineering.ipynb', 'Flight price.ipynb', 'Flight.ipynb', 'gas_price.png', 'Google Play Store.ipynb', 'Google PlayStore Dataset.ipynb', 'matplot.ipynb', 'Numpy.py', 'Pandas.py', 'Pandaz.ipynb', 'PieChart.png', 'Seaborn.ipynb', 'tempCodeRunnerFile.py']\n"
     ]
    }
   ],
   "source": [
    "import os\n",
    "print(os.listdir())"
   ]
  },
  {
   "cell_type": "code",
   "execution_count": null,
   "id": "bfdbfd08",
   "metadata": {},
   "outputs": [],
   "source": [
    "# opening the saved file for feature selection\n",
    "df_cleaned = pd.read_csv(r\"C:\\Users\\himan\\Desktop\\ML\\EDA\\Cleaned-Algerian-Fire_Dataset.csv\")"
   ]
  },
  {
   "cell_type": "code",
   "execution_count": null,
   "id": "6220031f",
   "metadata": {},
   "outputs": [
    {
     "data": {
      "text/html": [
       "<div>\n",
       "<style scoped>\n",
       "    .dataframe tbody tr th:only-of-type {\n",
       "        vertical-align: middle;\n",
       "    }\n",
       "\n",
       "    .dataframe tbody tr th {\n",
       "        vertical-align: top;\n",
       "    }\n",
       "\n",
       "    .dataframe thead th {\n",
       "        text-align: right;\n",
       "    }\n",
       "</style>\n",
       "<table border=\"1\" class=\"dataframe\">\n",
       "  <thead>\n",
       "    <tr style=\"text-align: right;\">\n",
       "      <th></th>\n",
       "      <th>day</th>\n",
       "      <th>month</th>\n",
       "      <th>year</th>\n",
       "      <th>Temperature</th>\n",
       "      <th>RH</th>\n",
       "      <th>Ws</th>\n",
       "      <th>Rain</th>\n",
       "      <th>FFMC</th>\n",
       "      <th>DMC</th>\n",
       "      <th>DC</th>\n",
       "      <th>ISI</th>\n",
       "      <th>BUI</th>\n",
       "      <th>FWI</th>\n",
       "      <th>Classes</th>\n",
       "      <th>Region</th>\n",
       "    </tr>\n",
       "  </thead>\n",
       "  <tbody>\n",
       "    <tr>\n",
       "      <th>0</th>\n",
       "      <td>1</td>\n",
       "      <td>6</td>\n",
       "      <td>2012</td>\n",
       "      <td>29</td>\n",
       "      <td>57</td>\n",
       "      <td>18</td>\n",
       "      <td>0.0</td>\n",
       "      <td>65.7</td>\n",
       "      <td>3.4</td>\n",
       "      <td>7.6</td>\n",
       "      <td>1.3</td>\n",
       "      <td>3.4</td>\n",
       "      <td>0.5</td>\n",
       "      <td>not fire</td>\n",
       "      <td>0.0</td>\n",
       "    </tr>\n",
       "    <tr>\n",
       "      <th>1</th>\n",
       "      <td>2</td>\n",
       "      <td>6</td>\n",
       "      <td>2012</td>\n",
       "      <td>29</td>\n",
       "      <td>61</td>\n",
       "      <td>13</td>\n",
       "      <td>1.3</td>\n",
       "      <td>64.4</td>\n",
       "      <td>4.1</td>\n",
       "      <td>7.6</td>\n",
       "      <td>1.0</td>\n",
       "      <td>3.9</td>\n",
       "      <td>0.4</td>\n",
       "      <td>not fire</td>\n",
       "      <td>0.0</td>\n",
       "    </tr>\n",
       "    <tr>\n",
       "      <th>2</th>\n",
       "      <td>3</td>\n",
       "      <td>6</td>\n",
       "      <td>2012</td>\n",
       "      <td>26</td>\n",
       "      <td>82</td>\n",
       "      <td>22</td>\n",
       "      <td>13.1</td>\n",
       "      <td>47.1</td>\n",
       "      <td>2.5</td>\n",
       "      <td>7.1</td>\n",
       "      <td>0.3</td>\n",
       "      <td>2.7</td>\n",
       "      <td>0.1</td>\n",
       "      <td>not fire</td>\n",
       "      <td>0.0</td>\n",
       "    </tr>\n",
       "    <tr>\n",
       "      <th>3</th>\n",
       "      <td>4</td>\n",
       "      <td>6</td>\n",
       "      <td>2012</td>\n",
       "      <td>25</td>\n",
       "      <td>89</td>\n",
       "      <td>13</td>\n",
       "      <td>2.5</td>\n",
       "      <td>28.6</td>\n",
       "      <td>1.3</td>\n",
       "      <td>6.9</td>\n",
       "      <td>0.0</td>\n",
       "      <td>1.7</td>\n",
       "      <td>0.0</td>\n",
       "      <td>not fire</td>\n",
       "      <td>0.0</td>\n",
       "    </tr>\n",
       "    <tr>\n",
       "      <th>4</th>\n",
       "      <td>5</td>\n",
       "      <td>6</td>\n",
       "      <td>2012</td>\n",
       "      <td>27</td>\n",
       "      <td>77</td>\n",
       "      <td>16</td>\n",
       "      <td>0.0</td>\n",
       "      <td>64.8</td>\n",
       "      <td>3.0</td>\n",
       "      <td>14.2</td>\n",
       "      <td>1.2</td>\n",
       "      <td>3.9</td>\n",
       "      <td>0.5</td>\n",
       "      <td>not fire</td>\n",
       "      <td>0.0</td>\n",
       "    </tr>\n",
       "  </tbody>\n",
       "</table>\n",
       "</div>"
      ],
      "text/plain": [
       "   day  month  year  Temperature  RH  Ws  Rain  FFMC  DMC    DC  ISI  BUI  \\\n",
       "0    1      6  2012           29  57  18   0.0  65.7  3.4   7.6  1.3  3.4   \n",
       "1    2      6  2012           29  61  13   1.3  64.4  4.1   7.6  1.0  3.9   \n",
       "2    3      6  2012           26  82  22  13.1  47.1  2.5   7.1  0.3  2.7   \n",
       "3    4      6  2012           25  89  13   2.5  28.6  1.3   6.9  0.0  1.7   \n",
       "4    5      6  2012           27  77  16   0.0  64.8  3.0  14.2  1.2  3.9   \n",
       "\n",
       "   FWI      Classes  Region  \n",
       "0  0.5  not fire        0.0  \n",
       "1  0.4  not fire        0.0  \n",
       "2  0.1  not fire        0.0  \n",
       "3  0.0  not fire        0.0  \n",
       "4  0.5  not fire        0.0  "
      ]
     },
     "execution_count": 52,
     "metadata": {},
     "output_type": "execute_result"
    }
   ],
   "source": [
    "df_cleaned.head()"
   ]
  },
  {
   "cell_type": "code",
   "execution_count": null,
   "id": "c7c3c064",
   "metadata": {},
   "outputs": [],
   "source": [
    "df_cleaned.drop(['day', 'month', 'year'], axis = 1, inplace = True)"
   ]
  },
  {
   "cell_type": "code",
   "execution_count": null,
   "id": "0bbae673",
   "metadata": {},
   "outputs": [
    {
     "data": {
      "text/html": [
       "<div>\n",
       "<style scoped>\n",
       "    .dataframe tbody tr th:only-of-type {\n",
       "        vertical-align: middle;\n",
       "    }\n",
       "\n",
       "    .dataframe tbody tr th {\n",
       "        vertical-align: top;\n",
       "    }\n",
       "\n",
       "    .dataframe thead th {\n",
       "        text-align: right;\n",
       "    }\n",
       "</style>\n",
       "<table border=\"1\" class=\"dataframe\">\n",
       "  <thead>\n",
       "    <tr style=\"text-align: right;\">\n",
       "      <th></th>\n",
       "      <th>Temperature</th>\n",
       "      <th>RH</th>\n",
       "      <th>Ws</th>\n",
       "      <th>Rain</th>\n",
       "      <th>FFMC</th>\n",
       "      <th>DMC</th>\n",
       "      <th>DC</th>\n",
       "      <th>ISI</th>\n",
       "      <th>BUI</th>\n",
       "      <th>FWI</th>\n",
       "      <th>Classes</th>\n",
       "      <th>Region</th>\n",
       "    </tr>\n",
       "  </thead>\n",
       "  <tbody>\n",
       "    <tr>\n",
       "      <th>0</th>\n",
       "      <td>29</td>\n",
       "      <td>57</td>\n",
       "      <td>18</td>\n",
       "      <td>0.0</td>\n",
       "      <td>65.7</td>\n",
       "      <td>3.4</td>\n",
       "      <td>7.6</td>\n",
       "      <td>1.3</td>\n",
       "      <td>3.4</td>\n",
       "      <td>0.5</td>\n",
       "      <td>not fire</td>\n",
       "      <td>0.0</td>\n",
       "    </tr>\n",
       "    <tr>\n",
       "      <th>1</th>\n",
       "      <td>29</td>\n",
       "      <td>61</td>\n",
       "      <td>13</td>\n",
       "      <td>1.3</td>\n",
       "      <td>64.4</td>\n",
       "      <td>4.1</td>\n",
       "      <td>7.6</td>\n",
       "      <td>1.0</td>\n",
       "      <td>3.9</td>\n",
       "      <td>0.4</td>\n",
       "      <td>not fire</td>\n",
       "      <td>0.0</td>\n",
       "    </tr>\n",
       "    <tr>\n",
       "      <th>2</th>\n",
       "      <td>26</td>\n",
       "      <td>82</td>\n",
       "      <td>22</td>\n",
       "      <td>13.1</td>\n",
       "      <td>47.1</td>\n",
       "      <td>2.5</td>\n",
       "      <td>7.1</td>\n",
       "      <td>0.3</td>\n",
       "      <td>2.7</td>\n",
       "      <td>0.1</td>\n",
       "      <td>not fire</td>\n",
       "      <td>0.0</td>\n",
       "    </tr>\n",
       "    <tr>\n",
       "      <th>3</th>\n",
       "      <td>25</td>\n",
       "      <td>89</td>\n",
       "      <td>13</td>\n",
       "      <td>2.5</td>\n",
       "      <td>28.6</td>\n",
       "      <td>1.3</td>\n",
       "      <td>6.9</td>\n",
       "      <td>0.0</td>\n",
       "      <td>1.7</td>\n",
       "      <td>0.0</td>\n",
       "      <td>not fire</td>\n",
       "      <td>0.0</td>\n",
       "    </tr>\n",
       "    <tr>\n",
       "      <th>4</th>\n",
       "      <td>27</td>\n",
       "      <td>77</td>\n",
       "      <td>16</td>\n",
       "      <td>0.0</td>\n",
       "      <td>64.8</td>\n",
       "      <td>3.0</td>\n",
       "      <td>14.2</td>\n",
       "      <td>1.2</td>\n",
       "      <td>3.9</td>\n",
       "      <td>0.5</td>\n",
       "      <td>not fire</td>\n",
       "      <td>0.0</td>\n",
       "    </tr>\n",
       "  </tbody>\n",
       "</table>\n",
       "</div>"
      ],
      "text/plain": [
       "   Temperature  RH  Ws  Rain  FFMC  DMC    DC  ISI  BUI  FWI      Classes  \\\n",
       "0           29  57  18   0.0  65.7  3.4   7.6  1.3  3.4  0.5  not fire      \n",
       "1           29  61  13   1.3  64.4  4.1   7.6  1.0  3.9  0.4  not fire      \n",
       "2           26  82  22  13.1  47.1  2.5   7.1  0.3  2.7  0.1  not fire      \n",
       "3           25  89  13   2.5  28.6  1.3   6.9  0.0  1.7  0.0  not fire      \n",
       "4           27  77  16   0.0  64.8  3.0  14.2  1.2  3.9  0.5  not fire      \n",
       "\n",
       "   Region  \n",
       "0     0.0  \n",
       "1     0.0  \n",
       "2     0.0  \n",
       "3     0.0  \n",
       "4     0.0  "
      ]
     },
     "execution_count": 56,
     "metadata": {},
     "output_type": "execute_result"
    }
   ],
   "source": [
    "df_cleaned.head()"
   ]
  },
  {
   "cell_type": "code",
   "execution_count": null,
   "id": "49310832",
   "metadata": {},
   "outputs": [
    {
     "data": {
      "text/plain": [
       "array(['not fire   ', 'fire   ', 'fire', 'fire ', 'not fire', 'not fire ',\n",
       "       'not fire     ', 'not fire    '], dtype=object)"
      ]
     },
     "execution_count": 58,
     "metadata": {},
     "output_type": "execute_result"
    }
   ],
   "source": [
    "df_cleaned[\"Classes\"].unique()"
   ]
  },
  {
   "cell_type": "markdown",
   "id": "37aa3c5f",
   "metadata": {},
   "source": [
    "Removing the whitespaces -"
   ]
  },
  {
   "cell_type": "code",
   "execution_count": null,
   "id": "42c179e9",
   "metadata": {},
   "outputs": [],
   "source": [
    "df_cleaned[\"Classes\"] = np.where(df['Classes'].str.contains('not fire'), 0, 1)"
   ]
  },
  {
   "cell_type": "code",
   "execution_count": null,
   "id": "e07631d6",
   "metadata": {},
   "outputs": [
    {
     "data": {
      "text/html": [
       "<div>\n",
       "<style scoped>\n",
       "    .dataframe tbody tr th:only-of-type {\n",
       "        vertical-align: middle;\n",
       "    }\n",
       "\n",
       "    .dataframe tbody tr th {\n",
       "        vertical-align: top;\n",
       "    }\n",
       "\n",
       "    .dataframe thead th {\n",
       "        text-align: right;\n",
       "    }\n",
       "</style>\n",
       "<table border=\"1\" class=\"dataframe\">\n",
       "  <thead>\n",
       "    <tr style=\"text-align: right;\">\n",
       "      <th></th>\n",
       "      <th>Temperature</th>\n",
       "      <th>RH</th>\n",
       "      <th>Ws</th>\n",
       "      <th>Rain</th>\n",
       "      <th>FFMC</th>\n",
       "      <th>DMC</th>\n",
       "      <th>DC</th>\n",
       "      <th>ISI</th>\n",
       "      <th>BUI</th>\n",
       "      <th>FWI</th>\n",
       "      <th>Classes</th>\n",
       "      <th>Region</th>\n",
       "    </tr>\n",
       "  </thead>\n",
       "  <tbody>\n",
       "    <tr>\n",
       "      <th>0</th>\n",
       "      <td>29</td>\n",
       "      <td>57</td>\n",
       "      <td>18</td>\n",
       "      <td>0.0</td>\n",
       "      <td>65.7</td>\n",
       "      <td>3.4</td>\n",
       "      <td>7.6</td>\n",
       "      <td>1.3</td>\n",
       "      <td>3.4</td>\n",
       "      <td>0.5</td>\n",
       "      <td>0</td>\n",
       "      <td>0.0</td>\n",
       "    </tr>\n",
       "    <tr>\n",
       "      <th>1</th>\n",
       "      <td>29</td>\n",
       "      <td>61</td>\n",
       "      <td>13</td>\n",
       "      <td>1.3</td>\n",
       "      <td>64.4</td>\n",
       "      <td>4.1</td>\n",
       "      <td>7.6</td>\n",
       "      <td>1.0</td>\n",
       "      <td>3.9</td>\n",
       "      <td>0.4</td>\n",
       "      <td>0</td>\n",
       "      <td>0.0</td>\n",
       "    </tr>\n",
       "    <tr>\n",
       "      <th>2</th>\n",
       "      <td>26</td>\n",
       "      <td>82</td>\n",
       "      <td>22</td>\n",
       "      <td>13.1</td>\n",
       "      <td>47.1</td>\n",
       "      <td>2.5</td>\n",
       "      <td>7.1</td>\n",
       "      <td>0.3</td>\n",
       "      <td>2.7</td>\n",
       "      <td>0.1</td>\n",
       "      <td>0</td>\n",
       "      <td>0.0</td>\n",
       "    </tr>\n",
       "    <tr>\n",
       "      <th>3</th>\n",
       "      <td>25</td>\n",
       "      <td>89</td>\n",
       "      <td>13</td>\n",
       "      <td>2.5</td>\n",
       "      <td>28.6</td>\n",
       "      <td>1.3</td>\n",
       "      <td>6.9</td>\n",
       "      <td>0.0</td>\n",
       "      <td>1.7</td>\n",
       "      <td>0.0</td>\n",
       "      <td>0</td>\n",
       "      <td>0.0</td>\n",
       "    </tr>\n",
       "    <tr>\n",
       "      <th>4</th>\n",
       "      <td>27</td>\n",
       "      <td>77</td>\n",
       "      <td>16</td>\n",
       "      <td>0.0</td>\n",
       "      <td>64.8</td>\n",
       "      <td>3.0</td>\n",
       "      <td>14.2</td>\n",
       "      <td>1.2</td>\n",
       "      <td>3.9</td>\n",
       "      <td>0.5</td>\n",
       "      <td>0</td>\n",
       "      <td>0.0</td>\n",
       "    </tr>\n",
       "  </tbody>\n",
       "</table>\n",
       "</div>"
      ],
      "text/plain": [
       "   Temperature  RH  Ws  Rain  FFMC  DMC    DC  ISI  BUI  FWI  Classes  Region\n",
       "0           29  57  18   0.0  65.7  3.4   7.6  1.3  3.4  0.5        0     0.0\n",
       "1           29  61  13   1.3  64.4  4.1   7.6  1.0  3.9  0.4        0     0.0\n",
       "2           26  82  22  13.1  47.1  2.5   7.1  0.3  2.7  0.1        0     0.0\n",
       "3           25  89  13   2.5  28.6  1.3   6.9  0.0  1.7  0.0        0     0.0\n",
       "4           27  77  16   0.0  64.8  3.0  14.2  1.2  3.9  0.5        0     0.0"
      ]
     },
     "execution_count": 116,
     "metadata": {},
     "output_type": "execute_result"
    }
   ],
   "source": [
    "df_cleaned.head()"
   ]
  },
  {
   "cell_type": "code",
   "execution_count": null,
   "id": "9e7a0282",
   "metadata": {},
   "outputs": [
    {
     "data": {
      "text/plain": [
       "Classes\n",
       "1    137\n",
       "0    104\n",
       "Name: count, dtype: int64"
      ]
     },
     "execution_count": 117,
     "metadata": {},
     "output_type": "execute_result"
    }
   ],
   "source": [
    "df_cleaned['Classes'].value_counts()"
   ]
  },
  {
   "cell_type": "code",
   "execution_count": null,
   "id": "23a14c33",
   "metadata": {},
   "outputs": [],
   "source": [
    "# Dividing features into Dependent and Independent Features-\n",
    "X = df_cleaned.drop('FWI', axis = 1)\n",
    "Y = df_cleaned['FWI'] # Feature which we are going to predict."
   ]
  },
  {
   "cell_type": "code",
   "execution_count": null,
   "id": "fbfe8ab4",
   "metadata": {},
   "outputs": [],
   "source": [
    "# Train Test Spilt\n",
    "from sklearn.model_selection import train_test_split\n",
    "X_train, X_test, Y_train, Y_test = train_test_split(X, Y, test_size = 0.25, random_state = 42)"
   ]
  },
  {
   "cell_type": "code",
   "execution_count": null,
   "id": "aeb23547",
   "metadata": {},
   "outputs": [
    {
     "data": {
      "text/plain": [
       "((180, 11), (61, 11))"
      ]
     },
     "execution_count": 120,
     "metadata": {},
     "output_type": "execute_result"
    }
   ],
   "source": [
    "X_train.shape, X_test.shape"
   ]
  },
  {
   "cell_type": "code",
   "execution_count": null,
   "id": "e8156a80",
   "metadata": {},
   "outputs": [
    {
     "data": {
      "text/html": [
       "<div>\n",
       "<style scoped>\n",
       "    .dataframe tbody tr th:only-of-type {\n",
       "        vertical-align: middle;\n",
       "    }\n",
       "\n",
       "    .dataframe tbody tr th {\n",
       "        vertical-align: top;\n",
       "    }\n",
       "\n",
       "    .dataframe thead th {\n",
       "        text-align: right;\n",
       "    }\n",
       "</style>\n",
       "<table border=\"1\" class=\"dataframe\">\n",
       "  <thead>\n",
       "    <tr style=\"text-align: right;\">\n",
       "      <th></th>\n",
       "      <th>Temperature</th>\n",
       "      <th>RH</th>\n",
       "      <th>Ws</th>\n",
       "      <th>Rain</th>\n",
       "      <th>FFMC</th>\n",
       "      <th>DMC</th>\n",
       "      <th>DC</th>\n",
       "      <th>ISI</th>\n",
       "      <th>BUI</th>\n",
       "      <th>Classes</th>\n",
       "      <th>Region</th>\n",
       "    </tr>\n",
       "  </thead>\n",
       "  <tbody>\n",
       "    <tr>\n",
       "      <th>Temperature</th>\n",
       "      <td>1.000000</td>\n",
       "      <td>-0.658884</td>\n",
       "      <td>-0.283527</td>\n",
       "      <td>-0.329838</td>\n",
       "      <td>0.695701</td>\n",
       "      <td>0.490708</td>\n",
       "      <td>0.368994</td>\n",
       "      <td>0.609129</td>\n",
       "      <td>0.461458</td>\n",
       "      <td>0.529054</td>\n",
       "      <td>0.254575</td>\n",
       "    </tr>\n",
       "    <tr>\n",
       "      <th>RH</th>\n",
       "      <td>-0.658884</td>\n",
       "      <td>1.000000</td>\n",
       "      <td>0.255366</td>\n",
       "      <td>0.218938</td>\n",
       "      <td>-0.636912</td>\n",
       "      <td>-0.383872</td>\n",
       "      <td>-0.201891</td>\n",
       "      <td>-0.687823</td>\n",
       "      <td>-0.330053</td>\n",
       "      <td>-0.429008</td>\n",
       "      <td>-0.388707</td>\n",
       "    </tr>\n",
       "    <tr>\n",
       "      <th>Ws</th>\n",
       "      <td>-0.283527</td>\n",
       "      <td>0.255366</td>\n",
       "      <td>1.000000</td>\n",
       "      <td>0.315301</td>\n",
       "      <td>-0.191422</td>\n",
       "      <td>-0.012974</td>\n",
       "      <td>0.078715</td>\n",
       "      <td>0.009717</td>\n",
       "      <td>0.020902</td>\n",
       "      <td>-0.088843</td>\n",
       "      <td>-0.199183</td>\n",
       "    </tr>\n",
       "    <tr>\n",
       "      <th>Rain</th>\n",
       "      <td>-0.329838</td>\n",
       "      <td>0.218938</td>\n",
       "      <td>0.315301</td>\n",
       "      <td>1.000000</td>\n",
       "      <td>-0.532895</td>\n",
       "      <td>-0.266456</td>\n",
       "      <td>-0.284452</td>\n",
       "      <td>-0.324347</td>\n",
       "      <td>-0.277710</td>\n",
       "      <td>-0.343453</td>\n",
       "      <td>-0.104973</td>\n",
       "    </tr>\n",
       "    <tr>\n",
       "      <th>FFMC</th>\n",
       "      <td>0.695701</td>\n",
       "      <td>-0.636912</td>\n",
       "      <td>-0.191422</td>\n",
       "      <td>-0.532895</td>\n",
       "      <td>1.000000</td>\n",
       "      <td>0.598514</td>\n",
       "      <td>0.504184</td>\n",
       "      <td>0.733343</td>\n",
       "      <td>0.584447</td>\n",
       "      <td>0.763900</td>\n",
       "      <td>0.266560</td>\n",
       "    </tr>\n",
       "    <tr>\n",
       "      <th>DMC</th>\n",
       "      <td>0.490708</td>\n",
       "      <td>-0.383872</td>\n",
       "      <td>-0.012974</td>\n",
       "      <td>-0.266456</td>\n",
       "      <td>0.598514</td>\n",
       "      <td>1.000000</td>\n",
       "      <td>0.878344</td>\n",
       "      <td>0.665321</td>\n",
       "      <td>0.984121</td>\n",
       "      <td>0.589805</td>\n",
       "      <td>0.207122</td>\n",
       "    </tr>\n",
       "    <tr>\n",
       "      <th>DC</th>\n",
       "      <td>0.368994</td>\n",
       "      <td>-0.201891</td>\n",
       "      <td>0.078715</td>\n",
       "      <td>-0.284452</td>\n",
       "      <td>0.504184</td>\n",
       "      <td>0.878344</td>\n",
       "      <td>1.000000</td>\n",
       "      <td>0.508745</td>\n",
       "      <td>0.947259</td>\n",
       "      <td>0.502396</td>\n",
       "      <td>-0.084035</td>\n",
       "    </tr>\n",
       "    <tr>\n",
       "      <th>ISI</th>\n",
       "      <td>0.609129</td>\n",
       "      <td>-0.687823</td>\n",
       "      <td>0.009717</td>\n",
       "      <td>-0.324347</td>\n",
       "      <td>0.733343</td>\n",
       "      <td>0.665321</td>\n",
       "      <td>0.508745</td>\n",
       "      <td>1.000000</td>\n",
       "      <td>0.628279</td>\n",
       "      <td>0.727029</td>\n",
       "      <td>0.282773</td>\n",
       "    </tr>\n",
       "    <tr>\n",
       "      <th>BUI</th>\n",
       "      <td>0.461458</td>\n",
       "      <td>-0.330053</td>\n",
       "      <td>0.020902</td>\n",
       "      <td>-0.277710</td>\n",
       "      <td>0.584447</td>\n",
       "      <td>0.984121</td>\n",
       "      <td>0.947259</td>\n",
       "      <td>0.628279</td>\n",
       "      <td>1.000000</td>\n",
       "      <td>0.578800</td>\n",
       "      <td>0.104204</td>\n",
       "    </tr>\n",
       "    <tr>\n",
       "      <th>Classes</th>\n",
       "      <td>0.529054</td>\n",
       "      <td>-0.429008</td>\n",
       "      <td>-0.088843</td>\n",
       "      <td>-0.343453</td>\n",
       "      <td>0.763900</td>\n",
       "      <td>0.589805</td>\n",
       "      <td>0.502396</td>\n",
       "      <td>0.727029</td>\n",
       "      <td>0.578800</td>\n",
       "      <td>1.000000</td>\n",
       "      <td>0.203781</td>\n",
       "    </tr>\n",
       "    <tr>\n",
       "      <th>Region</th>\n",
       "      <td>0.254575</td>\n",
       "      <td>-0.388707</td>\n",
       "      <td>-0.199183</td>\n",
       "      <td>-0.104973</td>\n",
       "      <td>0.266560</td>\n",
       "      <td>0.207122</td>\n",
       "      <td>-0.084035</td>\n",
       "      <td>0.282773</td>\n",
       "      <td>0.104204</td>\n",
       "      <td>0.203781</td>\n",
       "      <td>1.000000</td>\n",
       "    </tr>\n",
       "  </tbody>\n",
       "</table>\n",
       "</div>"
      ],
      "text/plain": [
       "             Temperature        RH        Ws      Rain      FFMC       DMC  \\\n",
       "Temperature     1.000000 -0.658884 -0.283527 -0.329838  0.695701  0.490708   \n",
       "RH             -0.658884  1.000000  0.255366  0.218938 -0.636912 -0.383872   \n",
       "Ws             -0.283527  0.255366  1.000000  0.315301 -0.191422 -0.012974   \n",
       "Rain           -0.329838  0.218938  0.315301  1.000000 -0.532895 -0.266456   \n",
       "FFMC            0.695701 -0.636912 -0.191422 -0.532895  1.000000  0.598514   \n",
       "DMC             0.490708 -0.383872 -0.012974 -0.266456  0.598514  1.000000   \n",
       "DC              0.368994 -0.201891  0.078715 -0.284452  0.504184  0.878344   \n",
       "ISI             0.609129 -0.687823  0.009717 -0.324347  0.733343  0.665321   \n",
       "BUI             0.461458 -0.330053  0.020902 -0.277710  0.584447  0.984121   \n",
       "Classes         0.529054 -0.429008 -0.088843 -0.343453  0.763900  0.589805   \n",
       "Region          0.254575 -0.388707 -0.199183 -0.104973  0.266560  0.207122   \n",
       "\n",
       "                   DC       ISI       BUI   Classes    Region  \n",
       "Temperature  0.368994  0.609129  0.461458  0.529054  0.254575  \n",
       "RH          -0.201891 -0.687823 -0.330053 -0.429008 -0.388707  \n",
       "Ws           0.078715  0.009717  0.020902 -0.088843 -0.199183  \n",
       "Rain        -0.284452 -0.324347 -0.277710 -0.343453 -0.104973  \n",
       "FFMC         0.504184  0.733343  0.584447  0.763900  0.266560  \n",
       "DMC          0.878344  0.665321  0.984121  0.589805  0.207122  \n",
       "DC           1.000000  0.508745  0.947259  0.502396 -0.084035  \n",
       "ISI          0.508745  1.000000  0.628279  0.727029  0.282773  \n",
       "BUI          0.947259  0.628279  1.000000  0.578800  0.104204  \n",
       "Classes      0.502396  0.727029  0.578800  1.000000  0.203781  \n",
       "Region      -0.084035  0.282773  0.104204  0.203781  1.000000  "
      ]
     },
     "execution_count": 121,
     "metadata": {},
     "output_type": "execute_result"
    }
   ],
   "source": [
    "X_train.corr()"
   ]
  },
  {
   "cell_type": "code",
   "execution_count": null,
   "id": "94de3f26",
   "metadata": {},
   "outputs": [
    {
     "data": {
      "image/png": "[encoded data removed]",
      "text/plain": [
       "<Figure size 1000x700 with 2 Axes>"
      ]
     },
     "metadata": {},
     "output_type": "display_data"
    }
   ],
   "source": [
    "# Checking for multicollinearity\n",
    "plt.figure(figsize = (10, 7))\n",
    "corr = X_train.corr()\n",
    "sns.heatmap(corr, annot = True)\n",
    "plt.title(\"Heatmap for better visualization\")\n",
    "plt.show()"
   ]
  },
  {
   "cell_type": "code",
   "execution_count": null,
   "id": "06d9ef46",
   "metadata": {},
   "outputs": [
    {
     "data": {
      "text/plain": [
       "Index(['Temperature', 'RH', 'Ws', 'Rain', 'FFMC', 'DMC', 'DC', 'ISI', 'BUI',\n",
       "       'Classes', 'Region'],\n",
       "      dtype='object')"
      ]
     },
     "execution_count": 123,
     "metadata": {},
     "output_type": "execute_result"
    }
   ],
   "source": [
    "# X_train.columns() > It will give you error because assigning \"()\" will try to behave like function which is not callable unless not built.\n",
    "# We can check it like -> callable(X_train.columns) -> True|YES, False|then No, we cant call.\n",
    "X_train.columns"
   ]
  },
  {
   "cell_type": "code",
   "execution_count": null,
   "id": "9081bd96",
   "metadata": {},
   "outputs": [],
   "source": [
    "# Creating a function to find out highly correlated features \n",
    "def correlation(dataset: pd.DataFrame, threshold_value: float) -> list[str]:\n",
    "    col_corr = set() # We don't want same features to store (ex-> i for i in csv.columns ; each col with itself )\n",
    "    corr_matrix = dataset.corr()\n",
    "\n",
    "    for i in range(len(corr_matrix.columns)):\n",
    "        for j in range(i):\n",
    "            if abs(corr_matrix.iloc[i, j]) > threshold_value:\n",
    "                col_name = corr_matrix.columns[i]\n",
    "                col_corr.add(col_name)\n",
    "    \n",
    "    return col_corr"
   ]
  },
  {
   "cell_type": "code",
   "execution_count": null,
   "id": "c26a3798",
   "metadata": {},
   "outputs": [],
   "source": [
    "# Finding the columns | > Threshold --- Domain Expertise\n",
    "corr_features = correlation(X_train, 0.85) "
   ]
  },
  {
   "cell_type": "code",
   "execution_count": null,
   "id": "ea364509",
   "metadata": {},
   "outputs": [],
   "source": [
    "# Dropping features having Threshold value greater than 0.85\n",
    "X_train.drop(corr_features, axis = 1, inplace = True)\n",
    "X_test.drop(corr_features, axis = 1, inplace = True)"
   ]
  },
  {
   "cell_type": "code",
   "execution_count": null,
   "id": "39912eda",
   "metadata": {},
   "outputs": [
    {
     "data": {
      "text/plain": [
       "((180, 9), (61, 9))"
      ]
     },
     "execution_count": 127,
     "metadata": {},
     "output_type": "execute_result"
    }
   ],
   "source": [
    "X_train.shape, X_test.shape"
   ]
  },
  {
   "cell_type": "markdown",
   "id": "8b195d82",
   "metadata": {},
   "source": [
    "Hence, two features are removed."
   ]
  },
  {
   "cell_type": "markdown",
   "id": "84fa904b",
   "metadata": {},
   "source": [
    "# Feature Scaling or Standardization"
   ]
  },
  {
   "cell_type": "code",
   "execution_count": null,
   "id": "99e08ce3",
   "metadata": {},
   "outputs": [],
   "source": [
    "from sklearn.preprocessing import StandardScaler"
   ]
  },
  {
   "cell_type": "code",
   "execution_count": null,
   "id": "2e8cdb50",
   "metadata": {},
   "outputs": [],
   "source": [
    "scaler = StandardScaler() # an in-built function in Scikit-learn (a Library of Python).\n",
    "X_train_scaled = scaler.fit_transform(X_train) \n",
    "X_test_scaled = scaler.transform(X_test)"
   ]
  },
  {
   "cell_type": "code",
   "execution_count": null,
   "id": "ea3f6e9d",
   "metadata": {},
   "outputs": [
    {
     "data": {
      "text/plain": [
       "array([[-0.82582663,  0.76875417,  1.25919129, ..., -0.62417554,\n",
       "        -1.11803399, -0.97801929],\n",
       "       [-0.03373714, -0.48680422, -0.57458243, ...,  0.06950049,\n",
       "         0.89442719,  1.02247472],\n",
       "       [ 2.07850149, -2.07277271, -0.20782769, ...,  2.84420462,\n",
       "         0.89442719,  1.02247472],\n",
       "       ...,\n",
       "       [-1.88194595,  0.90091821,  0.5256818 , ..., -1.07865294,\n",
       "        -1.11803399, -0.97801929],\n",
       "       [ 1.286412  , -0.48680422, -0.20782769, ...,  0.85885598,\n",
       "         0.89442719,  1.02247472],\n",
       "       [-0.5617968 ,  0.96700023,  1.99270077, ..., -0.86337417,\n",
       "        -1.11803399, -0.97801929]], shape=(180, 9))"
      ]
     },
     "execution_count": 130,
     "metadata": {},
     "output_type": "execute_result"
    }
   ],
   "source": [
    "X_train_scaled"
   ]
  },
  {
   "cell_type": "code",
   "execution_count": null,
   "id": "5ca5a795",
   "metadata": {},
   "outputs": [
    {
     "data": {
      "text/plain": [
       "Text(0.5, 1.0, 'X_test after Scaling')"
      ]
     },
     "execution_count": 140,
     "metadata": {},
     "output_type": "execute_result"
    },
    {
     "data": {
      "image/png": "[encoded data removed]",
      "text/plain": [
       "<Figure size 1700x1200 with 3 Axes>"
      ]
     },
     "metadata": {},
     "output_type": "display_data"
    }
   ],
   "source": [
    "# Checking for Outliers using BoxPlot\n",
    "plt.subplots(figsize = (17, 12))\n",
    "plt.subplot(1,2,1)\n",
    "sns.boxplot(data = X_train)\n",
    "plt.title(\"X_train before Scaling\")\n",
    "\n",
    "plt.subplot(1,2,2)\n",
    "sns.boxplot(data = X_train_scaled)\n",
    "plt.title(\"X_test after Scaling\")"
   ]
  },
  {
   "cell_type": "markdown",
   "id": "fe12aed7",
   "metadata": {},
   "source": [
    "# Model Training"
   ]
  },
  {
   "cell_type": "code",
   "execution_count": null,
   "id": "b703f3d6",
   "metadata": {},
   "outputs": [],
   "source": [
    "# importing required libraries for model training\n",
    "from sklearn.linear_model import LinearRegression\n",
    "from sklearn.metrics import mean_absolute_error\n",
    "from sklearn.metrics import r2_score"
   ]
  },
  {
   "cell_type": "markdown",
   "id": "93e26afe",
   "metadata": {},
   "source": [
    "### Linear Regression Model"
   ]
  },
  {
   "cell_type": "code",
   "execution_count": null,
   "id": "dfc2a127",
   "metadata": {},
   "outputs": [
    {
     "name": "stdout",
     "output_type": "stream",
     "text": [
      "Mean Absolute Error:  0.6612623700751249\n",
      "R2 Score:  0.9836843464471655\n"
     ]
    }
   ],
   "source": [
    "# Building the Linear Regression Model-\n",
    "\n",
    "# importing required library\n",
    "linearReg = LinearRegression()\n",
    "\n",
    "# Training the model\n",
    "linearReg.fit(X_train_scaled, Y_train)\n",
    "y_pred = linearReg.predict(X_test_scaled)\n",
    "\n",
    "# Checking the performance\n",
    "MAE = mean_absolute_error(Y_test, y_pred)\n",
    "r2_Score = r2_score(Y_test, y_pred)\n",
    "\n",
    "# Printing the result\n",
    "print(\"Mean Absolute Error: \", MAE)\n",
    "print(\"R2 Score: \", r2_Score)"
   ]
  },
  {
   "cell_type": "code",
   "execution_count": null,
   "id": "1078325c",
   "metadata": {},
   "outputs": [
    {
     "data": {
      "text/plain": [
       "<matplotlib.collections.PathCollection at 0x19acfdcfe90>"
      ]
     },
     "execution_count": 154,
     "metadata": {},
     "output_type": "execute_result"
    },
    {
     "data": {
      "image/png": "[encoded data removed]",
      "text/plain": [
       "<Figure size 640x480 with 1 Axes>"
      ]
     },
     "metadata": {},
     "output_type": "display_data"
    }
   ],
   "source": [
    "# Visualizing the result\n",
    "plt.scatter(Y_test, y_pred)"
   ]
  },
  {
   "cell_type": "markdown",
   "id": "28cfb9ab",
   "metadata": {},
   "source": [
    "### Lasso Regression Model"
   ]
  },
  {
   "cell_type": "code",
   "execution_count": null,
   "id": "ef24bd36",
   "metadata": {},
   "outputs": [
    {
     "name": "stdout",
     "output_type": "stream",
     "text": [
      "Mean Absolute Error:  1.2522655115292307\n",
      "R2 Score:  0.9473075426805143\n"
     ]
    }
   ],
   "source": [
    "# Building the Lasso Regression Model\n",
    "\n",
    "# importing required library\n",
    "from sklearn.linear_model import Lasso\n",
    "\n",
    "LassoReg = Lasso()\n",
    "\n",
    "# Training the Model\n",
    "LassoReg.fit(X_train_scaled, Y_train)\n",
    "y_pred = LassoReg.predict(X_test_scaled)\n",
    "\n",
    "# Checking the Performance\n",
    "MAE = mean_absolute_error(Y_test, y_pred)\n",
    "r2_Score = r2_score(Y_test, y_pred)\n",
    "\n",
    "# Printing the result\n",
    "print(\"Mean Absolute Error: \", MAE)\n",
    "print(\"R2 Score: \", r2_Score)"
   ]
  },
  {
   "cell_type": "code",
   "execution_count": null,
   "id": "25bf3a3c",
   "metadata": {},
   "outputs": [
    {
     "data": {
      "text/plain": [
       "<matplotlib.collections.PathCollection at 0x19accb37e90>"
      ]
     },
     "execution_count": 160,
     "metadata": {},
     "output_type": "execute_result"
    },
    {
     "data": {
      "image/png": "[encoded data removed]",
      "text/plain": [
       "<Figure size 640x480 with 1 Axes>"
      ]
     },
     "metadata": {},
     "output_type": "display_data"
    }
   ],
   "source": [
    "# Visualizing the Result\n",
    "plt.scatter(Y_test, y_pred)"
   ]
  },
  {
   "cell_type": "markdown",
   "id": "205906a0",
   "metadata": {},
   "source": [
    "### Ridge Regression Model"
   ]
  },
  {
   "cell_type": "code",
   "execution_count": null,
   "id": "6381e74e",
   "metadata": {},
   "outputs": [
    {
     "name": "stdout",
     "output_type": "stream",
     "text": [
      "Mean Absolute Error:  0.6864171979933394\n",
      "R2 Score:  0.9830258655702742\n"
     ]
    }
   ],
   "source": [
    "# Building the Ridge Regression Model\n",
    "\n",
    "# importing required library\n",
    "from sklearn.linear_model import Ridge\n",
    "\n",
    "# Training the Model\n",
    "RidgeReg = Ridge()\n",
    "\n",
    "RidgeReg.fit(X_train_scaled, Y_train)\n",
    "y_pred = RidgeReg.predict(X_test_scaled)\n",
    "\n",
    "# Checking the Performance\n",
    "MAE = mean_absolute_error(Y_test, y_pred)\n",
    "r2_Score = r2_score(Y_test, y_pred)\n",
    "\n",
    "# Printing the result\n",
    "print(\"Mean Absolute Error: \", MAE)\n",
    "print(\"R2 Score: \", r2_Score)"
   ]
  },
  {
   "cell_type": "code",
   "execution_count": null,
   "id": "130fa85e",
   "metadata": {},
   "outputs": [
    {
     "data": {
      "text/plain": [
       "<matplotlib.collections.PathCollection at 0x19acffffe90>"
      ]
     },
     "execution_count": 162,
     "metadata": {},
     "output_type": "execute_result"
    },
    {
     "data": {
      "image/png": "[encoded data removed]",
      "text/plain": [
       "<Figure size 640x480 with 1 Axes>"
      ]
     },
     "metadata": {},
     "output_type": "display_data"
    }
   ],
   "source": [
    "# Visulazing the Result\n",
    "plt.scatter(Y_test, y_pred)"
   ]
  },
  {
   "cell_type": "markdown",
   "id": "16c9186a",
   "metadata": {},
   "source": [
    "### ElasticNet Regression Model"
   ]
  },
  {
   "cell_type": "code",
   "execution_count": null,
   "id": "b719806a",
   "metadata": {},
   "outputs": [
    {
     "name": "stdout",
     "output_type": "stream",
     "text": [
      "Mean Absolute Error:  1.924851265262548\n",
      "R2 Score:  0.7733220503701906\n"
     ]
    }
   ],
   "source": [
    "# Building the ElasticNet Regression Model\n",
    "\n",
    "# importing required library\n",
    "from sklearn.linear_model import ElasticNet\n",
    "\n",
    "# Training the Model\n",
    "ElasticNet_model = ElasticNet()\n",
    "\n",
    "ElasticNet_model.fit(X_train_scaled, Y_train)\n",
    "y_pred = ElasticNet_model.predict(X_test_scaled)\n",
    "\n",
    "# Checking the Performance of the Model\n",
    "MAE = mean_absolute_error(y_pred, Y_test)\n",
    "r2_Score = r2_score(y_pred, Y_test)\n",
    "\n",
    "# Printing the result\n",
    "print(\"Mean Absolute Error: \", MAE)\n",
    "print(\"R2 Score: \", r2_Score)"
   ]
  },
  {
   "cell_type": "code",
   "execution_count": null,
   "id": "22105693",
   "metadata": {},
   "outputs": [
    {
     "data": {
      "text/plain": [
       "<matplotlib.collections.PathCollection at 0x19acfa8fe90>"
      ]
     },
     "execution_count": 165,
     "metadata": {},
     "output_type": "execute_result"
    },
    {
     "data": {
      "image/png": "[encoded data removed]",
      "text/plain": [
       "<Figure size 640x480 with 1 Axes>"
      ]
     },
     "metadata": {},
     "output_type": "display_data"
    }
   ],
   "source": [
    "# Visualizing the Result\n",
    "plt.scatter(Y_test, y_pred)"
   ]
  },
  {
   "cell_type": "code",
   "execution_count": null,
   "id": "d7a13017",
   "metadata": {},
   "outputs": [],
   "source": []
  }
 ],
 "metadata": {
  "kernelspec": {
   "display_name": "Python 3",
   "language": "python",
   "name": "python3"
  },
  "language_info": {
   "codemirror_mode": {
    "name": "ipython",
    "version": 3
   },
   "file_extension": ".py",
   "mimetype": "text/x-python",
   "name": "python",
   "nbconvert_exporter": "python",
   "pygments_lexer": "ipython3",
   "version": "3.11.9"
  }
 },
 "nbformat": 4,
 "nbformat_minor": 5
}
